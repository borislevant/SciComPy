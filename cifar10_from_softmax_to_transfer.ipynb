{
  "nbformat": 4,
  "nbformat_minor": 0,
  "metadata": {
    "colab": {
      "name": "cifar10_from_softmax_to_transfer.ipynb",
      "provenance": [],
      "collapsed_sections": [],
      "toc_visible": true,
      "authorship_tag": "ABX9TyPF1jA0TajXANXVg5SUot+s",
      "include_colab_link": true
    },
    "kernelspec": {
      "name": "python3",
      "display_name": "Python 3"
    },
    "language_info": {
      "name": "python"
    },
    "accelerator": "GPU",
    "gpuClass": "standard"
  },
  "cells": [
    {
      "cell_type": "markdown",
      "metadata": {
        "id": "view-in-github",
        "colab_type": "text"
      },
      "source": [
        "<a href=\"https://colab.research.google.com/github/borislevant/SciComPy/blob/master/cifar10_from_softmax_to_transfer.ipynb\" target=\"_parent\"><img src=\"https://colab.research.google.com/assets/colab-badge.svg\" alt=\"Open In Colab\"/></a>"
      ]
    },
    {
      "cell_type": "markdown",
      "source": [
        "In this notebook we will demonstrate the work on the CIFAR-10 data set from the simplest Softmax model (Logistic regression) to the more advanced methods"
      ],
      "metadata": {
        "id": "7dy5Gp7sziul"
      }
    },
    {
      "cell_type": "markdown",
      "source": [
        "## 1. Introduction\n",
        "The CIFAR-10 dataset contains 60,000 color images of 32 x 32 pixels in 3 channels divided into 10\n",
        "classes. Each class contains 6,000 images. The training set contains 50,000 images, while the test sets\n",
        "provides 10,000 images. This image taken from the CIFAR repository ( <a href = \"https://www.cs.toronto.edu/~kriz/cifar.html\">https://www.cs.toronto.edu/~kriz/cifar.html </a>). This is a classification problem with 10 classes(muti-label classification). We can take a view on this image for more comprehension of the dataset. \n",
        "\n",
        "![cifar10.png](https://github.com/borislevant/SciComPy/blob/master/cifar10.png?raw=1)\n",
        "\n",
        "\n",
        "The challenge is to recognize previously unseen images and assign them to one of the 10 classes.\n",
        "\n",
        "Ok Let's get started."
      ],
      "metadata": {
        "id": "ODkXzxzJX4RV"
      }
    },
    {
      "cell_type": "markdown",
      "source": [
        "## 2. Import and Preprocess the data\n",
        "\n"
      ],
      "metadata": {
        "id": "8loO1ZCAYNFq"
      }
    },
    {
      "cell_type": "markdown",
      "source": [
        "### 2.1 Import all required libraries"
      ],
      "metadata": {
        "id": "CQEVEyzgcsQ-"
      }
    },
    {
      "cell_type": "code",
      "source": [
        "from __future__ import print_function\n",
        "from tensorflow import keras\n",
        "from keras.datasets import cifar10\n",
        "from keras.preprocessing.image import ImageDataGenerator\n",
        "from keras.models import Sequential\n",
        "from keras.layers import Dense, Dropout, Activation, Flatten, InputLayer\n",
        "from keras.layers import Conv2D, MaxPooling2D\n",
        "import os\n",
        "\n",
        "import numpy as np\n",
        "\n",
        "import seaborn as sns\n",
        "import matplotlib\n",
        "import matplotlib.pyplot as plt\n",
        "\n",
        "from sklearn.metrics import confusion_matrix, classification_report\n",
        "import itertools\n",
        "\n",
        "%matplotlib inline\n"
      ],
      "metadata": {
        "id": "RxZygPoMYOJi"
      },
      "execution_count": 15,
      "outputs": []
    },
    {
      "cell_type": "code",
      "source": [
        "batch_size = 32  # The default batch size of keras.\n",
        "num_classes = 10  # Number of class for the dataset\n",
        "epochs = 30\n",
        "data_augmentation = False\n",
        "opt = keras.optimizers.Adam(learning_rate=0.0001)\n",
        "reg = keras.regularizers.l2(l2=0.0001)"
      ],
      "metadata": {
        "id": "Q1nImjQpciHS"
      },
      "execution_count": 16,
      "outputs": []
    },
    {
      "cell_type": "markdown",
      "source": [
        "### 2.2 Import and preproces of data \n",
        "We load the data and split it between train and test sets\n"
      ],
      "metadata": {
        "id": "od0ht3ORYW_L"
      }
    },
    {
      "cell_type": "code",
      "source": [
        "# The data, split between train and test sets:\n",
        "(x_train, y_train), (x_test, y_test) = cifar10.load_data()\n",
        "print('x_train shape:', x_train.shape)\n",
        "print('y_train shape:', y_train.shape)\n",
        "print(x_train.shape[0], 'train samples')\n",
        "print(x_test.shape[0], 'test samples')\n"
      ],
      "metadata": {
        "colab": {
          "base_uri": "https://localhost:8080/"
        },
        "id": "_vQGeMoaYZeP",
        "outputId": "8d63b002-4312-4357-b2f0-093ba1269404"
      },
      "execution_count": 17,
      "outputs": [
        {
          "output_type": "stream",
          "name": "stdout",
          "text": [
            "x_train shape: (50000, 32, 32, 3)\n",
            "y_train shape: (50000, 1)\n",
            "50000 train samples\n",
            "10000 test samples\n"
          ]
        }
      ]
    },
    {
      "cell_type": "code",
      "source": [
        "# Normalize the data. Before we need to connvert data type to float for computation.\n",
        "x_train = x_train.astype('float32')\n",
        "x_test = x_test.astype('float32')\n",
        "x_train /= 255\n",
        "x_test /= 255\n",
        "\n",
        "# Convert class vectors to binary class matrices. This is called one hot encoding.\n",
        "y_train = keras.utils.to_categorical(y_train, num_classes)\n",
        "y_test = keras.utils.to_categorical(y_test, num_classes)"
      ],
      "metadata": {
        "id": "bMdzujJVcfoI"
      },
      "execution_count": 18,
      "outputs": []
    },
    {
      "cell_type": "markdown",
      "source": [
        "##3. Softmax model"
      ],
      "metadata": {
        "id": "vJ6g0nKpaVf4"
      }
    },
    {
      "cell_type": "code",
      "source": [
        "model = Sequential()\n",
        "model.add(InputLayer(input_shape=x_train.shape[1:]))\n",
        "model.add(Flatten())\n",
        "model.add(Dense(num_classes, activation='softmax', kernel_regularizer=reg))\n",
        "model.summary()\n"
      ],
      "metadata": {
        "colab": {
          "base_uri": "https://localhost:8080/"
        },
        "id": "eHHh5oltaVDa",
        "outputId": "af2a6123-7987-430f-f592-ed7efb422780"
      },
      "execution_count": 19,
      "outputs": [
        {
          "output_type": "stream",
          "name": "stdout",
          "text": [
            "Model: \"sequential_3\"\n",
            "_________________________________________________________________\n",
            " Layer (type)                Output Shape              Param #   \n",
            "=================================================================\n",
            " flatten_3 (Flatten)         (None, 3072)              0         \n",
            "                                                                 \n",
            " dense_6 (Dense)             (None, 10)                30730     \n",
            "                                                                 \n",
            "=================================================================\n",
            "Total params: 30,730\n",
            "Trainable params: 30,730\n",
            "Non-trainable params: 0\n",
            "_________________________________________________________________\n"
          ]
        }
      ]
    },
    {
      "cell_type": "code",
      "source": [
        "model.compile(loss='categorical_crossentropy',\n",
        "              optimizer=opt,\n",
        "              metrics=['accuracy'])\n",
        "\n",
        "history = model.fit(x_train, y_train,\n",
        "              batch_size=batch_size,\n",
        "              epochs=epochs,\n",
        "              validation_data=(x_test, y_test),\n",
        "              shuffle=True)\n"
      ],
      "metadata": {
        "colab": {
          "base_uri": "https://localhost:8080/"
        },
        "id": "nstz6VYcaBw1",
        "outputId": "4eed70e1-bdc8-481d-c7eb-fe8c3cdd63ca"
      },
      "execution_count": 20,
      "outputs": [
        {
          "output_type": "stream",
          "name": "stdout",
          "text": [
            "Epoch 1/30\n",
            "1563/1563 [==============================] - 5s 3ms/step - loss: 1.9787 - accuracy: 0.2968 - val_loss: 1.8738 - val_accuracy: 0.3378\n",
            "Epoch 2/30\n",
            "1563/1563 [==============================] - 4s 3ms/step - loss: 1.8507 - accuracy: 0.3540 - val_loss: 1.8281 - val_accuracy: 0.3647\n",
            "Epoch 3/30\n",
            "1563/1563 [==============================] - 4s 3ms/step - loss: 1.8172 - accuracy: 0.3690 - val_loss: 1.8119 - val_accuracy: 0.3690\n",
            "Epoch 4/30\n",
            "1563/1563 [==============================] - 5s 3ms/step - loss: 1.7949 - accuracy: 0.3779 - val_loss: 1.8063 - val_accuracy: 0.3675\n",
            "Epoch 5/30\n",
            "1563/1563 [==============================] - 4s 3ms/step - loss: 1.7808 - accuracy: 0.3864 - val_loss: 1.7892 - val_accuracy: 0.3754\n",
            "Epoch 6/30\n",
            "1563/1563 [==============================] - 5s 3ms/step - loss: 1.7706 - accuracy: 0.3882 - val_loss: 1.7813 - val_accuracy: 0.3794\n",
            "Epoch 7/30\n",
            "1563/1563 [==============================] - 5s 3ms/step - loss: 1.7615 - accuracy: 0.3935 - val_loss: 1.7960 - val_accuracy: 0.3672\n",
            "Epoch 8/30\n",
            "1563/1563 [==============================] - 5s 3ms/step - loss: 1.7545 - accuracy: 0.3955 - val_loss: 1.7731 - val_accuracy: 0.3832\n",
            "Epoch 9/30\n",
            "1563/1563 [==============================] - 6s 4ms/step - loss: 1.7484 - accuracy: 0.3989 - val_loss: 1.7600 - val_accuracy: 0.3899\n",
            "Epoch 10/30\n",
            "1563/1563 [==============================] - 6s 4ms/step - loss: 1.7436 - accuracy: 0.4016 - val_loss: 1.7642 - val_accuracy: 0.3840\n",
            "Epoch 11/30\n",
            "1563/1563 [==============================] - 5s 3ms/step - loss: 1.7378 - accuracy: 0.4023 - val_loss: 1.7512 - val_accuracy: 0.3932\n",
            "Epoch 12/30\n",
            "1563/1563 [==============================] - 4s 3ms/step - loss: 1.7339 - accuracy: 0.4046 - val_loss: 1.7466 - val_accuracy: 0.3986\n",
            "Epoch 13/30\n",
            "1563/1563 [==============================] - 6s 4ms/step - loss: 1.7308 - accuracy: 0.4063 - val_loss: 1.7468 - val_accuracy: 0.3990\n",
            "Epoch 14/30\n",
            "1563/1563 [==============================] - 5s 3ms/step - loss: 1.7271 - accuracy: 0.4074 - val_loss: 1.7419 - val_accuracy: 0.4024\n",
            "Epoch 15/30\n",
            "1563/1563 [==============================] - 5s 3ms/step - loss: 1.7220 - accuracy: 0.4090 - val_loss: 1.7458 - val_accuracy: 0.3958\n",
            "Epoch 16/30\n",
            "1563/1563 [==============================] - 4s 3ms/step - loss: 1.7195 - accuracy: 0.4116 - val_loss: 1.7516 - val_accuracy: 0.3931\n",
            "Epoch 17/30\n",
            "1563/1563 [==============================] - 4s 3ms/step - loss: 1.7173 - accuracy: 0.4104 - val_loss: 1.7446 - val_accuracy: 0.3958\n",
            "Epoch 18/30\n",
            "1563/1563 [==============================] - 5s 3ms/step - loss: 1.7138 - accuracy: 0.4129 - val_loss: 1.7394 - val_accuracy: 0.3982\n",
            "Epoch 19/30\n",
            "1563/1563 [==============================] - 5s 3ms/step - loss: 1.7110 - accuracy: 0.4148 - val_loss: 1.7328 - val_accuracy: 0.4020\n",
            "Epoch 20/30\n",
            "1563/1563 [==============================] - 4s 3ms/step - loss: 1.7082 - accuracy: 0.4169 - val_loss: 1.7468 - val_accuracy: 0.3964\n",
            "Epoch 21/30\n",
            "1563/1563 [==============================] - 4s 3ms/step - loss: 1.7075 - accuracy: 0.4173 - val_loss: 1.7483 - val_accuracy: 0.3898\n",
            "Epoch 22/30\n",
            "1563/1563 [==============================] - 5s 3ms/step - loss: 1.7059 - accuracy: 0.4170 - val_loss: 1.7396 - val_accuracy: 0.3992\n",
            "Epoch 23/30\n",
            "1563/1563 [==============================] - 5s 3ms/step - loss: 1.7040 - accuracy: 0.4172 - val_loss: 1.7365 - val_accuracy: 0.3939\n",
            "Epoch 24/30\n",
            "1563/1563 [==============================] - 5s 3ms/step - loss: 1.7029 - accuracy: 0.4191 - val_loss: 1.7356 - val_accuracy: 0.3969\n",
            "Epoch 25/30\n",
            "1563/1563 [==============================] - 5s 3ms/step - loss: 1.7021 - accuracy: 0.4193 - val_loss: 1.7466 - val_accuracy: 0.3946\n",
            "Epoch 26/30\n",
            "1563/1563 [==============================] - 4s 3ms/step - loss: 1.6978 - accuracy: 0.4218 - val_loss: 1.7384 - val_accuracy: 0.3978\n",
            "Epoch 27/30\n",
            "1563/1563 [==============================] - 5s 3ms/step - loss: 1.6969 - accuracy: 0.4204 - val_loss: 1.7336 - val_accuracy: 0.4042\n",
            "Epoch 28/30\n",
            "1563/1563 [==============================] - 4s 3ms/step - loss: 1.6955 - accuracy: 0.4226 - val_loss: 1.7355 - val_accuracy: 0.3971\n",
            "Epoch 29/30\n",
            "1563/1563 [==============================] - 5s 3ms/step - loss: 1.6934 - accuracy: 0.4225 - val_loss: 1.7272 - val_accuracy: 0.4033\n",
            "Epoch 30/30\n",
            "1563/1563 [==============================] - 4s 3ms/step - loss: 1.6941 - accuracy: 0.4227 - val_loss: 1.7485 - val_accuracy: 0.3901\n"
          ]
        }
      ]
    },
    {
      "cell_type": "markdown",
      "source": [
        "##4. Fully-connected Neural Network (FNN) model"
      ],
      "metadata": {
        "id": "NNNPoEFCfWZK"
      }
    },
    {
      "cell_type": "code",
      "source": [
        "model = Sequential()\n",
        "model.add(InputLayer(input_shape=x_train.shape[1:]))\n",
        "model.add(Flatten())\n",
        "model.add(Dense(1024, activation='relu', kernel_regularizer=reg))\n",
        "model.add(Dense(256, activation='relu', kernel_regularizer=reg))\n",
        "model.add(Dense(64, activation='relu', kernel_regularizer=reg))\n",
        "model.add(Dense(num_classes, activation='softmax', kernel_regularizer=reg))\n",
        "model.summary()\n"
      ],
      "metadata": {
        "colab": {
          "base_uri": "https://localhost:8080/"
        },
        "id": "HQ6jPs0FfV_-",
        "outputId": "d5bb5fb3-ddb3-4247-e8a9-6787c65e5fee"
      },
      "execution_count": 21,
      "outputs": [
        {
          "output_type": "stream",
          "name": "stdout",
          "text": [
            "Model: \"sequential_4\"\n",
            "_________________________________________________________________\n",
            " Layer (type)                Output Shape              Param #   \n",
            "=================================================================\n",
            " flatten_4 (Flatten)         (None, 3072)              0         \n",
            "                                                                 \n",
            " dense_7 (Dense)             (None, 1024)              3146752   \n",
            "                                                                 \n",
            " dense_8 (Dense)             (None, 256)               262400    \n",
            "                                                                 \n",
            " dense_9 (Dense)             (None, 64)                16448     \n",
            "                                                                 \n",
            " dense_10 (Dense)            (None, 10)                650       \n",
            "                                                                 \n",
            "=================================================================\n",
            "Total params: 3,426,250\n",
            "Trainable params: 3,426,250\n",
            "Non-trainable params: 0\n",
            "_________________________________________________________________\n"
          ]
        }
      ]
    },
    {
      "cell_type": "code",
      "source": [
        "model.compile(loss='categorical_crossentropy',\n",
        "              optimizer=opt,\n",
        "              metrics=['accuracy'])\n",
        "\n",
        "history = model.fit(x_train, y_train,\n",
        "              batch_size=batch_size,\n",
        "              epochs=epochs,\n",
        "              validation_data=(x_test, y_test),\n",
        "              shuffle=True)"
      ],
      "metadata": {
        "colab": {
          "base_uri": "https://localhost:8080/"
        },
        "id": "v44TLZmOftmC",
        "outputId": "c83d56bd-40f3-4973-c602-19a42044afc7"
      },
      "execution_count": 22,
      "outputs": [
        {
          "output_type": "stream",
          "name": "stdout",
          "text": [
            "Epoch 1/30\n",
            "1563/1563 [==============================] - 8s 4ms/step - loss: 2.0209 - accuracy: 0.3193 - val_loss: 1.8547 - val_accuracy: 0.3819\n",
            "Epoch 2/30\n",
            "1563/1563 [==============================] - 7s 4ms/step - loss: 1.7894 - accuracy: 0.3932 - val_loss: 1.7113 - val_accuracy: 0.4220\n",
            "Epoch 3/30\n",
            "1563/1563 [==============================] - 7s 4ms/step - loss: 1.6852 - accuracy: 0.4270 - val_loss: 1.6475 - val_accuracy: 0.4346\n",
            "Epoch 4/30\n",
            "1563/1563 [==============================] - 7s 5ms/step - loss: 1.6200 - accuracy: 0.4471 - val_loss: 1.6188 - val_accuracy: 0.4373\n",
            "Epoch 5/30\n",
            "1563/1563 [==============================] - 7s 4ms/step - loss: 1.5731 - accuracy: 0.4645 - val_loss: 1.5833 - val_accuracy: 0.4625\n",
            "Epoch 6/30\n",
            "1563/1563 [==============================] - 7s 5ms/step - loss: 1.5373 - accuracy: 0.4768 - val_loss: 1.5382 - val_accuracy: 0.4743\n",
            "Epoch 7/30\n",
            "1563/1563 [==============================] - 7s 5ms/step - loss: 1.5062 - accuracy: 0.4860 - val_loss: 1.5409 - val_accuracy: 0.4781\n",
            "Epoch 8/30\n",
            "1563/1563 [==============================] - 7s 5ms/step - loss: 1.4761 - accuracy: 0.4953 - val_loss: 1.5421 - val_accuracy: 0.4656\n",
            "Epoch 9/30\n",
            "1563/1563 [==============================] - 7s 5ms/step - loss: 1.4513 - accuracy: 0.5046 - val_loss: 1.4993 - val_accuracy: 0.4930\n",
            "Epoch 10/30\n",
            "1563/1563 [==============================] - 7s 5ms/step - loss: 1.4272 - accuracy: 0.5145 - val_loss: 1.4637 - val_accuracy: 0.5009\n",
            "Epoch 11/30\n",
            "1563/1563 [==============================] - 7s 4ms/step - loss: 1.4034 - accuracy: 0.5234 - val_loss: 1.4628 - val_accuracy: 0.4994\n",
            "Epoch 12/30\n",
            "1563/1563 [==============================] - 7s 4ms/step - loss: 1.3844 - accuracy: 0.5289 - val_loss: 1.4387 - val_accuracy: 0.5092\n",
            "Epoch 13/30\n",
            "1563/1563 [==============================] - 7s 5ms/step - loss: 1.3626 - accuracy: 0.5404 - val_loss: 1.4346 - val_accuracy: 0.5145\n",
            "Epoch 14/30\n",
            "1563/1563 [==============================] - 7s 4ms/step - loss: 1.3407 - accuracy: 0.5480 - val_loss: 1.4269 - val_accuracy: 0.5170\n",
            "Epoch 15/30\n",
            "1563/1563 [==============================] - 7s 5ms/step - loss: 1.3251 - accuracy: 0.5538 - val_loss: 1.4406 - val_accuracy: 0.5089\n",
            "Epoch 16/30\n",
            "1563/1563 [==============================] - 7s 4ms/step - loss: 1.3059 - accuracy: 0.5622 - val_loss: 1.3960 - val_accuracy: 0.5282\n",
            "Epoch 17/30\n",
            "1563/1563 [==============================] - 7s 5ms/step - loss: 1.2887 - accuracy: 0.5666 - val_loss: 1.4008 - val_accuracy: 0.5309\n",
            "Epoch 18/30\n",
            "1563/1563 [==============================] - 7s 5ms/step - loss: 1.2737 - accuracy: 0.5739 - val_loss: 1.4064 - val_accuracy: 0.5263\n",
            "Epoch 19/30\n",
            "1563/1563 [==============================] - 7s 4ms/step - loss: 1.2561 - accuracy: 0.5804 - val_loss: 1.4039 - val_accuracy: 0.5270\n",
            "Epoch 20/30\n",
            "1563/1563 [==============================] - 7s 5ms/step - loss: 1.2372 - accuracy: 0.5869 - val_loss: 1.3927 - val_accuracy: 0.5315\n",
            "Epoch 21/30\n",
            "1563/1563 [==============================] - 7s 4ms/step - loss: 1.2245 - accuracy: 0.5921 - val_loss: 1.4066 - val_accuracy: 0.5269\n",
            "Epoch 22/30\n",
            "1563/1563 [==============================] - 7s 5ms/step - loss: 1.2109 - accuracy: 0.5979 - val_loss: 1.4454 - val_accuracy: 0.5129\n",
            "Epoch 23/30\n",
            "1563/1563 [==============================] - 7s 5ms/step - loss: 1.1959 - accuracy: 0.6018 - val_loss: 1.4004 - val_accuracy: 0.5302\n",
            "Epoch 24/30\n",
            "1563/1563 [==============================] - 7s 4ms/step - loss: 1.1774 - accuracy: 0.6095 - val_loss: 1.4154 - val_accuracy: 0.5247\n",
            "Epoch 25/30\n",
            "1563/1563 [==============================] - 7s 5ms/step - loss: 1.1661 - accuracy: 0.6161 - val_loss: 1.3800 - val_accuracy: 0.5388\n",
            "Epoch 26/30\n",
            "1563/1563 [==============================] - 7s 5ms/step - loss: 1.1496 - accuracy: 0.6219 - val_loss: 1.3693 - val_accuracy: 0.5442\n",
            "Epoch 27/30\n",
            "1563/1563 [==============================] - 7s 4ms/step - loss: 1.1394 - accuracy: 0.6250 - val_loss: 1.3814 - val_accuracy: 0.5381\n",
            "Epoch 28/30\n",
            "1563/1563 [==============================] - 7s 4ms/step - loss: 1.1272 - accuracy: 0.6267 - val_loss: 1.3771 - val_accuracy: 0.5401\n",
            "Epoch 29/30\n",
            "1563/1563 [==============================] - 7s 5ms/step - loss: 1.1086 - accuracy: 0.6397 - val_loss: 1.3779 - val_accuracy: 0.5467\n",
            "Epoch 30/30\n",
            "1563/1563 [==============================] - 7s 5ms/step - loss: 1.0996 - accuracy: 0.6398 - val_loss: 1.3794 - val_accuracy: 0.5476\n"
          ]
        }
      ]
    }
  ]
}