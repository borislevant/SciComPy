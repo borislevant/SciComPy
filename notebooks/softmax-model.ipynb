{
  "cells": [
    {
      "cell_type": "markdown",
      "metadata": {
        "id": "htX9wvRkZb-a"
      },
      "source": [
        "# Softmax Model\n",
        "\n",
        "## [Scientific Computing with Python](http://scicompy.yoavram.com)\n",
        "## Yoav Ram\n",
        "\n",
        "In this session we will understand:\n",
        "- how to use multinomial logistic regression to classify samples to multiple categories\n",
        "- why sometimes linear models like logistic regression are not enough\n",
        "- first steps in working with images\n",
        "- first steps with generator functions\n",
        "- polynoimal fitting and polynomial features"
      ]
    },
    {
      "cell_type": "code",
      "execution_count": 1,
      "metadata": {
        "id": "4QI__8PRZb-e"
      },
      "outputs": [],
      "source": [
        "%matplotlib inline\n",
        "import matplotlib.pyplot as plt\n",
        "import numpy as np\n",
        "import pandas as pd\n",
        "import scipy.stats\n",
        "import scipy.optimize\n",
        "from scipy.special import expit\n",
        "import scipy.misc\n",
        "from scipy import ndimage\n",
        "from sklearn.linear_model import LogisticRegression\n",
        "import seaborn as sns\n",
        "sns.set(\n",
        "    style='ticks',\n",
        "    context='talk'\n",
        ")\n",
        "from ipywidgets import interact\n",
        "import warnings\n",
        "warnings.simplefilter('ignore', FutureWarning)"
      ]
    },
    {
      "cell_type": "markdown",
      "metadata": {
        "id": "d0kq7FDgZb-g"
      },
      "source": [
        "# Image classification: MNIST dataset\n",
        "\n",
        "We continue with classification, this time we want to classify an image. \n",
        "\n",
        "We'll use a classical image classification problem, the [MNIST](https://en.wikipedia.org/wiki/MNIST_database) dataset of  handwritten digits. \n",
        "Since we will use Keras later anyway, we can get the images from the `keras.datasets` module which is distributed with Keras, which, in turn, is distributed with TensorFlow since version 1.4, which (!) is distributed with Anaconda.\n",
        "\n",
        "If you got an `ImportError`, just open a terminal and run `conda install keras` or `pip install keras`. `conda` should be in your Anaconda folder, probably `~/anaconda3/bin/conda`.\n",
        "\n",
        "First we read the data sets:"
      ]
    },
    {
      "cell_type": "code",
      "execution_count": 2,
      "metadata": {
        "id": "TtO7uygaZb-i",
        "outputId": "3fbfd1b8-3184-41de-a964-c878e760d2e4",
        "colab": {
          "base_uri": "https://localhost:8080/"
        }
      },
      "outputs": [
        {
          "output_type": "stream",
          "name": "stdout",
          "text": [
            "Downloading data from https://storage.googleapis.com/tensorflow/tf-keras-datasets/mnist.npz\n",
            "11493376/11490434 [==============================] - 0s 0us/step\n",
            "11501568/11490434 [==============================] - 0s 0us/step\n"
          ]
        }
      ],
      "source": [
        "try: \n",
        "    from tensorflow import keras \n",
        "except ImportError:\n",
        "    import keras\n",
        "    \n",
        "(X_train, Y_train), (X_test, Y_test) = keras.datasets.mnist.load_data()"
      ]
    },
    {
      "cell_type": "markdown",
      "metadata": {
        "id": "7f4Mi9W0Zb-i"
      },
      "source": [
        "Then we pull the images, which are our *features* for this problem, the independent variables.\n",
        "The images are already divided to training and test images, and they are 28x28 pixels each (for a total of 784 features per sample!).\n",
        "\n",
        "So `X_train` and `X_test` are arrays of shape (nsamples, 28, 28)."
      ]
    },
    {
      "cell_type": "code",
      "execution_count": 3,
      "metadata": {
        "id": "29bguladZb-j",
        "outputId": "8f11f3cf-a0e4-47f3-e600-022deb4a6db9",
        "colab": {
          "base_uri": "https://localhost:8080/"
        }
      },
      "outputs": [
        {
          "output_type": "stream",
          "name": "stdout",
          "text": [
            "[[  0   0   0   0   0   0   0   0   0   0   0   0   0   0   0   0   0   0\n",
            "    0   0   0   0   0   0   0   0   0   0]\n",
            " [  0   0   0   0   0   0   0   0   0   0   0   0   0   0   0   0   0   0\n",
            "    0   0   0   0   0   0   0   0   0   0]\n",
            " [  0   0   0   0   0   0   0   0   0   0   0   0   0   0   0   0   0   0\n",
            "    0   0   0   0   0   0   0   0   0   0]\n",
            " [  0   0   0   0   0   0   0   0   0   0   0   0   0   0   0   0   0   0\n",
            "    0   0   0   0   0   0   0   0   0   0]\n",
            " [  0   0   0   0   0   0   0   0   0   0   0   0   0   0   0   0   0   0\n",
            "    0   0   0   0   0   0   0   0   0   0]\n",
            " [  0   0   0   0   0   0   0   0   0   0   0   0   0   0   0   0   0   0\n",
            "    0   0   0   0   0   0   0   0   0   0]\n",
            " [  0   0   0   0   0   0   0   0   0   0   0   0   0   0   0   0   0   0\n",
            "    0   0   0   0   0   0   0   0   0   0]\n",
            " [  0   0   0   0   0   0  84 185 159 151  60  36   0   0   0   0   0   0\n",
            "    0   0   0   0   0   0   0   0   0   0]\n",
            " [  0   0   0   0   0   0 222 254 254 254 254 241 198 198 198 198 198 198\n",
            "  198 198 170  52   0   0   0   0   0   0]\n",
            " [  0   0   0   0   0   0  67 114  72 114 163 227 254 225 254 254 254 250\n",
            "  229 254 254 140   0   0   0   0   0   0]\n",
            " [  0   0   0   0   0   0   0   0   0   0   0  17  66  14  67  67  67  59\n",
            "   21 236 254 106   0   0   0   0   0   0]\n",
            " [  0   0   0   0   0   0   0   0   0   0   0   0   0   0   0   0   0   0\n",
            "   83 253 209  18   0   0   0   0   0   0]\n",
            " [  0   0   0   0   0   0   0   0   0   0   0   0   0   0   0   0   0  22\n",
            "  233 255  83   0   0   0   0   0   0   0]\n",
            " [  0   0   0   0   0   0   0   0   0   0   0   0   0   0   0   0   0 129\n",
            "  254 238  44   0   0   0   0   0   0   0]\n",
            " [  0   0   0   0   0   0   0   0   0   0   0   0   0   0   0   0  59 249\n",
            "  254  62   0   0   0   0   0   0   0   0]\n",
            " [  0   0   0   0   0   0   0   0   0   0   0   0   0   0   0   0 133 254\n",
            "  187   5   0   0   0   0   0   0   0   0]\n",
            " [  0   0   0   0   0   0   0   0   0   0   0   0   0   0   0   9 205 248\n",
            "   58   0   0   0   0   0   0   0   0   0]\n",
            " [  0   0   0   0   0   0   0   0   0   0   0   0   0   0   0 126 254 182\n",
            "    0   0   0   0   0   0   0   0   0   0]\n",
            " [  0   0   0   0   0   0   0   0   0   0   0   0   0   0  75 251 240  57\n",
            "    0   0   0   0   0   0   0   0   0   0]\n",
            " [  0   0   0   0   0   0   0   0   0   0   0   0   0  19 221 254 166   0\n",
            "    0   0   0   0   0   0   0   0   0   0]\n",
            " [  0   0   0   0   0   0   0   0   0   0   0   0   3 203 254 219  35   0\n",
            "    0   0   0   0   0   0   0   0   0   0]\n",
            " [  0   0   0   0   0   0   0   0   0   0   0   0  38 254 254  77   0   0\n",
            "    0   0   0   0   0   0   0   0   0   0]\n",
            " [  0   0   0   0   0   0   0   0   0   0   0  31 224 254 115   1   0   0\n",
            "    0   0   0   0   0   0   0   0   0   0]\n",
            " [  0   0   0   0   0   0   0   0   0   0   0 133 254 254  52   0   0   0\n",
            "    0   0   0   0   0   0   0   0   0   0]\n",
            " [  0   0   0   0   0   0   0   0   0   0  61 242 254 254  52   0   0   0\n",
            "    0   0   0   0   0   0   0   0   0   0]\n",
            " [  0   0   0   0   0   0   0   0   0   0 121 254 254 219  40   0   0   0\n",
            "    0   0   0   0   0   0   0   0   0   0]\n",
            " [  0   0   0   0   0   0   0   0   0   0 121 254 207  18   0   0   0   0\n",
            "    0   0   0   0   0   0   0   0   0   0]\n",
            " [  0   0   0   0   0   0   0   0   0   0   0   0   0   0   0   0   0   0\n",
            "    0   0   0   0   0   0   0   0   0   0]]\n"
          ]
        }
      ],
      "source": [
        "nsamples, width, height = X_train.shape\n",
        "nfeatures = width * height\n",
        "\n",
        "print(X_test[0])"
      ]
    },
    {
      "cell_type": "markdown",
      "metadata": {
        "id": "VHNuDI0TZb-l"
      },
      "source": [
        "Images are just matrices, as you can see.\n",
        "Matplotlib has two functions to plot matrices - `matshow` and `imshow`, where the main difference is that `imshow` is designed for images and does interpolation."
      ]
    },
    {
      "cell_type": "code",
      "execution_count": 4,
      "metadata": {
        "scrolled": true,
        "id": "L0M6xxNcZb-n",
        "outputId": "b5d564fe-8367-4b5b-bcc9-6a53f353b608",
        "colab": {
          "base_uri": "https://localhost:8080/",
          "height": 257
        }
      },
      "outputs": [
        {
          "output_type": "display_data",
          "data": {
            "text/plain": [
              "<Figure size 432x288 with 1 Axes>"
            ],
            "image/png": "[encoded data removed]"
          },
          "metadata": {}
        }
      ],
      "source": [
        "def display_image(im):\n",
        "    plt.imshow(im.reshape((width, height)), cmap='gray_r')\n",
        "    plt.xticks([])\n",
        "    plt.yticks([])\n",
        "    \n",
        "display_image(X_test[4])"
      ]
    },
    {
      "cell_type": "markdown",
      "metadata": {
        "id": "NFnsPUnRZb-o"
      },
      "source": [
        "# Multinomial logistic regression\n",
        "\n",
        "The target labels are encoded as a nubmer `n` between 0 and 9:"
      ]
    },
    {
      "cell_type": "code",
      "execution_count": 5,
      "metadata": {
        "id": "nBGunZvTZb-p",
        "outputId": "ac4e4a2c-a567-4876-98ee-840b4634a0c4",
        "colab": {
          "base_uri": "https://localhost:8080/"
        }
      },
      "outputs": [
        {
          "output_type": "stream",
          "name": "stdout",
          "text": [
            "[0 1 2 3 4 5 6 7 8 9]\n"
          ]
        }
      ],
      "source": [
        "print(np.unique(Y_train))"
      ]
    },
    {
      "cell_type": "markdown",
      "metadata": {
        "id": "BOQ8fqUTZb-q"
      },
      "source": [
        "But these are categories, not really numbers. \n",
        "We know how to do logistic regression for two categories using a single boolean, and the extension of this idea to $n>2$ categories is called [*multinomial logistic regression*](https://en.wikipedia.org/wiki/Multinomial_logistic_regression) or *softmax regression* (not *multiple*, which means multiple features).\n",
        "In this framework, we try to predict the log odds ratio $z_k$ that a specific sample or example (a set of feature values $x$) is from category $k$ out of $n$ categories.\n",
        "So instead of each $x_j$ affecting just a single $z$ via a coefficient $a_j$, we have each $x_j$ affecting each log-odds $z_k$ via a coefficient $a_{k,j}$\n",
        "\n",
        "$$\n",
        "z_{k} = \\sum_{j=1}^m{a_{k,j} x_j}\n",
        "$$\n",
        "\n",
        "If we take the n-by-m matrix $\\mathbf{W}$ to have the entries $a_{k,j}$ at row $k$ and column $j$, and $\\mathbf{x}$ to be the feautres vector in which $x_{j}$ is the $j$-th feature of the sample, then we can write the same equation using matrix multiplication\n",
        "\n",
        "$$\n",
        "\\mathbf{z} = \\mathbf{W}\\mathbf{x}\n",
        "$$\n",
        "\n",
        "The probability that the sample is from category $k$ is the result of the [*softmax function*](https://en.wikipedia.org/wiki/Softmax_function), an extension of the logistic function for multiple values\n",
        "\n",
        "$$\n",
        "\\widehat y_k = P(y=k \\mid \\mathbf{x}) = \\frac{e^{z_k}}{\\sum_{j=1}^n{e^{z_j}}}\n",
        "$$\n",
        "\n",
        "Note that now $y$, the true label, has to be converted to a vector $\\mathbf{y}$ of length $n$ with 1 in one of the positions and 0 everywhere else, so that it would be comparable to $\\mathbf{\\widehat y}$ which is a probability vector that we get from the log-odds vector $\\mathbf{z}$.\n",
        "The conversion of $y$ from a number between $0$ and $n$ to a vector of length $n$ is called [*one-hot encoding*](https://en.wikipedia.org/wiki/One-hot).\n",
        "Let's write a function for this conversion:"
      ]
    },
    {
      "cell_type": "code",
      "execution_count": 6,
      "metadata": {
        "id": "0T9o8IOAZb-r"
      },
      "outputs": [],
      "source": [
        "def onehot(labels):\n",
        "    \"\"\"0 -> [1,0,0,...,0]\n",
        "       1 -> [0,1,0,...,0]\n",
        "       9 -> [0,0,...,0,1]\n",
        "    \"\"\"\n",
        "    nsamples = len(labels)\n",
        "    Y = np.zeros((nsamples, len(np.unique(labels))))\n",
        "    Y[np.arange(nsamples), labels] = 1\n",
        "    return Y"
      ]
    },
    {
      "cell_type": "markdown",
      "metadata": {
        "id": "5VYzrsnLZb-s"
      },
      "source": [
        "And apply it to our target data:"
      ]
    },
    {
      "cell_type": "code",
      "execution_count": 7,
      "metadata": {
        "id": "y6iv0q_rZb-s"
      },
      "outputs": [],
      "source": [
        "Y_train = onehot(Y_train)\n",
        "Y_test = onehot(Y_test)\n",
        "ncats = Y_test.shape[1]"
      ]
    },
    {
      "cell_type": "markdown",
      "metadata": {
        "id": "9UkKCBaxZb-t"
      },
      "source": [
        "Note that we could also use `keras.utils.to_categorical` to do the same job.\n",
        "\n",
        "We can use `ipywidgets.interact` (install with `conda install ipywidgets`) to add a slider that allows us to browse through the images.\n",
        "The [ipywidgets](http://ipywidgets.readthedocs.io) pacakge has many other widget controls that allow you to interact with the notebook and create small GUI and dashboards. There are also other projects for developing [dashboards](http://jupyter-dashboards-layout.readthedocs.io/en/latest/) and [RESTful servers](http://jupyter-kernel-gateway.readthedocs.io/en/latest/) in the notebook."
      ]
    },
    {
      "cell_type": "code",
      "execution_count": 8,
      "metadata": {
        "id": "Hqb-bTkEZb-t",
        "outputId": "49eefa7c-b3de-4674-b377-97f0dd8e6afa",
        "colab": {
          "base_uri": "https://localhost:8080/",
          "height": 324,
          "referenced_widgets": [
            "e8fd8ae0357c4b459eb847d5263b15da",
            "9a57ffc0168743cc9a99eb2c6da92aba",
            "870ff8e657f140ba90a7ffd593db0356",
            "9a90d09f883c4f85ac58ec27632f3658",
            "0876710eb53345ff975cc43e91de1d10",
            "5569ef3c70564ff7841a49d077276c32",
            "dfcaea591ff841d8be801b7f8d18a52f"
          ]
        }
      },
      "outputs": [
        {
          "output_type": "display_data",
          "data": {
            "text/plain": [
              "interactive(children=(IntSlider(value=29999, description='idx', max=59999), Output()), _dom_classes=('widget-i…"
            ],
            "application/vnd.jupyter.widget-view+json": {
              "version_major": 2,
              "version_minor": 0,
              "model_id": "e8fd8ae0357c4b459eb847d5263b15da"
            }
          },
          "metadata": {}
        }
      ],
      "source": [
        "@interact(idx=(0, X_train.shape[0]-1))\n",
        "def browse_train_images(idx):\n",
        "    display_image(X_train[idx, :, :])\n",
        "    print(Y_train[idx].argmax())\n",
        "    print(Y_train[idx].astype(int))"
      ]
    },
    {
      "cell_type": "markdown",
      "metadata": {
        "id": "jbhW90noZb-u"
      },
      "source": [
        "Another issue is that our linear model can't handle 2D arrays (images) so we have to reshape our `X`s so that they will be of shape `(nsamples, nfeatures)`."
      ]
    },
    {
      "cell_type": "code",
      "execution_count": 9,
      "metadata": {
        "id": "kaQ_NC2DZb-u"
      },
      "outputs": [],
      "source": [
        "X_train = X_train.reshape(-1, 28*28)\n",
        "X_test = X_test.reshape(-1, 28*28)"
      ]
    },
    {
      "cell_type": "markdown",
      "metadata": {
        "id": "xa-SDjx6Zb-u"
      },
      "source": [
        "So Let's start with the multinomial logistic or softmax model.\n",
        "The model is specified by\n",
        "\n",
        "$$\n",
        "\\mathbf{\\widehat y} = softmax(\\mathbf{W} \\mathbf{x})\n",
        "$$\n",
        "\n",
        "where $\\widehat y_k$ is the predicted probability of the sample being in class $k$ just as with the logistic model (here $(\\mathbf{W} \\mathbf{x})_k$ is the log-odds for the sample being vs. not being in class $k$).\n",
        "\n",
        "Let's write a function that creates $\\mathbf{W}$ and initilize it to some random values; the specific random distribution we chose is called [*Glorot uniform*](http://proceedings.mlr.press/v9/glorot10a/glorot10a.pdf) and is commonly used in deep learning algorithms."
      ]
    },
    {
      "cell_type": "code",
      "execution_count": 10,
      "metadata": {
        "id": "tuos0v5NZb-v"
      },
      "outputs": [],
      "source": [
        "def random_matrix(ninputs, noutputs):\n",
        "    boundary = np.sqrt(6 / (ninputs + noutputs))\n",
        "    return np.random.uniform(-boundary, boundary, size=(ninputs, noutputs))"
      ]
    },
    {
      "cell_type": "markdown",
      "metadata": {
        "id": "kNHRWC5hZb-w"
      },
      "source": [
        "We now write the softmax function.\n",
        "We change it a bit to avoid numerical issues of overflow by substracting the largest $z_k$ from the other $z_j$s, so that we deal with exponents of negative numbers, which are easier to compute with high precision.\n",
        "\n",
        "$$\n",
        "z_M = max_k{z_k}, \\\\\n",
        "\\frac{e^{z_k}}{\\sum_{j=1}^n{e^{z_j}}} = \\frac{e^{z_k - z_M}}{\\sum_{j=1}^n{e^{z_j - z_M}}}\n",
        "$$\n",
        "\n",
        "We also write the function so that it would work on a matrix in which each rows are samples and columns are categories, so `max` and `sum` are taken over rows (`axis=1`).\n",
        "`keepdims` prevents the aggregation matrices from reducing the number of dimensions which would screw our calculations later on."
      ]
    },
    {
      "cell_type": "code",
      "execution_count": 11,
      "metadata": {
        "id": "dG6L5hPgZb-w"
      },
      "outputs": [],
      "source": [
        "def softmax(x):\n",
        "    expx = np.exp(x - x.max(axis=1, keepdims=True))\n",
        "    return expx / expx.sum(axis=1, keepdims=True)"
      ]
    },
    {
      "cell_type": "markdown",
      "metadata": {
        "id": "dIYVIyFhZb-w"
      },
      "source": [
        "# Exercise: predict\n",
        "\n",
        "Implement a prediction function, that accepts an array `W` and array `X` and outputs an array `Yhat`.\n",
        "For each row in `X` have a row in `Yhat` with 10 elements corresponding to the probabilities for that row being in each of the 10 categories (digits)\n",
        "\n",
        "Tip: The `@` operator performs matrix multiplication in Python."
      ]
    },
    {
      "cell_type": "code",
      "execution_count": 28,
      "metadata": {
        "id": "oXSC-Eh4Zb-x"
      },
      "outputs": [],
      "source": [
        "def predict(W, X):\n",
        "    if X.ndim == 1: \n",
        "        # if we got a single sample, so X is 1D we convert X to 2D with just one row\n",
        "        # to be consistent with cases in which we get multiple samples (rows)\n",
        "        X = X.reshape((1, -1))\n",
        "    Z = X @ W\n",
        "    Yhat = softmax(Z)\n",
        "    return Yhat\n"
      ]
    },
    {
      "cell_type": "code",
      "execution_count": 29,
      "metadata": {
        "id": "6KYUCyb-Zb-x",
        "outputId": "c266d708-76fd-49be-9b3e-d9af5cf90524",
        "colab": {
          "base_uri": "https://localhost:8080/"
        }
      },
      "outputs": [
        {
          "output_type": "stream",
          "name": "stdout",
          "text": [
            "[[3.24707966e-106 1.05181911e-037 4.07339838e-008 1.08153876e-026\n",
            "  1.34625054e-046 5.72083264e-075 5.30405281e-135 9.99999959e-001\n",
            "  2.57398323e-075 9.76436418e-097]]\n"
          ]
        }
      ],
      "source": [
        "#%run ../solutions/softmax-model.py\n",
        "W = random_matrix(nfeatures, ncats)\n",
        "y_hat = predict(W, X_test[0,:])\n",
        "print(y_hat)"
      ]
    },
    {
      "cell_type": "markdown",
      "metadata": {
        "id": "MOGWgN_yZb-y"
      },
      "source": [
        "# Cross entropy and accuracy\n",
        "\n",
        "The softmax model uses the same cross entropy function as the logistic model, but with an additional step of averaging not just over samples but also over categories."
      ]
    },
    {
      "cell_type": "code",
      "execution_count": 30,
      "metadata": {
        "id": "0YxG6EuLZb-y"
      },
      "outputs": [],
      "source": [
        "def cross_entropy(Yhat, Y):\n",
        "    ylogy = Y * np.log(Yhat)\n",
        "    return -ylogy.mean()"
      ]
    },
    {
      "cell_type": "markdown",
      "metadata": {
        "id": "lRhnoJ2gZb-y"
      },
      "source": [
        "Accuracy is calculated by comparing the `argmax` of $\\mathbf{y}$, the position at which there is a `1` which gives the correct label (so basically reversing the one-hot encoding...), and the argmax of $\\mathbf{\\widehat y}$, which is the position or category with the highest probability. The `argmax` is taken over rows - samples - using `axis=1`.\n",
        "\n",
        "Here, the `==` opertor returns an array of booleans, which are sub-types of integers, and `mean` calculates their average, which is the fraction of samples with the correct prediction."
      ]
    },
    {
      "cell_type": "code",
      "execution_count": 31,
      "metadata": {
        "id": "l8oXl149Zb-z"
      },
      "outputs": [],
      "source": [
        "def accuracy(Yhat, Y):\n",
        "    return (Y.argmax(axis=1) == Yhat.argmax(axis=1)).mean()"
      ]
    },
    {
      "cell_type": "code",
      "execution_count": 32,
      "metadata": {
        "id": "7UdQXNfDZb-z",
        "outputId": "9e932370-563d-4245-ed82-62bf4b7cf964",
        "colab": {
          "base_uri": "https://localhost:8080/"
        }
      },
      "outputs": [
        {
          "output_type": "stream",
          "name": "stdout",
          "text": [
            "Accuracy: 0.0802\n"
          ]
        }
      ],
      "source": [
        "W = random_matrix(nfeatures, ncats)\n",
        "print(\"Accuracy: {:.4f}\".format(accuracy(predict(W, X_test), Y_test)))"
      ]
    },
    {
      "cell_type": "markdown",
      "metadata": {
        "id": "O7DPEHDcZb-2"
      },
      "source": [
        "This seems about right, as a random model ($\\mathbf{W}$) should be expected to be correct at about 10% of the test samples - We didn't fit the model yet!"
      ]
    },
    {
      "cell_type": "markdown",
      "metadata": {
        "id": "cwBU9cgWZb-2"
      },
      "source": [
        "# Gradient descent\n",
        "\n",
        "Let's fit the model now.\n",
        "First we write the function that calculates the gradient.\n",
        "This is similar to gradient calculation we wrote for logistic regression, but there is some difference.\n",
        "With logistic regression we effectively had the following code, with $\\mathbf{X}$ a matrix with rows for samples and columns for features, $\\mathbf{Y}$ a vector with one entry per sample, and $\\mathbf{W}$ a vector with one entry per feature.\n",
        "\n",
        "```python\n",
        "def gradient(X, Y, W):\n",
        "    Yhat = expit(X * W)\n",
        "    δ = Yhat - Y\n",
        "    dW = X.T @ δ / nsamples\n",
        "    return dW\n",
        "```"
      ]
    },
    {
      "cell_type": "markdown",
      "metadata": {
        "id": "tQ8lknOKZb-3"
      },
      "source": [
        "This worked well because \n",
        "`X` was 2D `(nsamples, nfeatures)`, `W` was 1D array `(nfeatures)` and `Y` was 1D `(nsamples)`.\n",
        "Multiplying `X * W` caused *broadcasting*, such that `W` was automatically reshaped to `(1, nfeatures)` and then to `(nsamples, nfeatures)`. Then the multiplycation worked elementwise $\\mathbf{X}_{k,j} \\cdot \\mathbf{W}_{k,j}$.\n",
        "\n",
        "This wouldn't work now because `X` is 2D with shape `(nsamples, nfeatures)`, `W` is 2D with shape `(nfeatures, ncats)` and `Y` and `Yhat` are 2D with shape `(nsamples, ncats)`.\n",
        "So elementwise multiplycation of `X * W` doesn't have a meaning and cannot be broadcasted.\n",
        "\n",
        "However, if we use matrix multiplication then `X @ W` is 2D `(nsamples, ncats)` as we require from `Yhat` (`expit` doesn't change the shape as it works elementwise).\n",
        "\n",
        "The matrix multiplication of `X` and `δ` works fine, as broadcasting works just as we want it to, as long as we take the transpose of `X`.\n",
        "\n",
        "After multiplication we average over the first axis (`nsamples`) so that we get a 2D `(nfeatures, ncats)` array, the same shape as `W`.\n",
        "\n",
        "This clever design is worth it, because in Python *no loops = efficeint computation*."
      ]
    },
    {
      "cell_type": "code",
      "execution_count": 33,
      "metadata": {
        "id": "Run2OAx6Zb-3"
      },
      "outputs": [],
      "source": [
        "def gradient(W, X, Y):\n",
        "    X = np.atleast_2d(X)\n",
        "    nsamples = X.shape[0]\n",
        "    assert Y.shape[0] == nsamples, \"First dimension of X and Y must match\"\n",
        "    # forward\n",
        "    Z = X @ W\n",
        "    Yhat = softmax(Z)    \n",
        "    # backward    \n",
        "    δ = Yhat - Y\n",
        "    dW = X.T @ δ / nsamples\n",
        "\n",
        "    assert dW.shape == W.shape, (dW.shape, W.shape)\n",
        "    return dW"
      ]
    },
    {
      "cell_type": "markdown",
      "metadata": {
        "id": "WnCTfgtIZb-4"
      },
      "source": [
        "## Side note: generator functions\n",
        "\n",
        "[Generator functions](https://realpython.com/blog/python/introduction-to-python-generators/) are a neat way of writing iterators without defining new classes.\n",
        "\n",
        "For example, we can write an infinite version of range that iterates over all natural numbers: "
      ]
    },
    {
      "cell_type": "code",
      "execution_count": 34,
      "metadata": {
        "id": "dkSPk9DoZb-4"
      },
      "outputs": [],
      "source": [
        "def natural_numbers():\n",
        "    n = 0\n",
        "    while True:\n",
        "        n += 1\n",
        "        yield n"
      ]
    },
    {
      "cell_type": "code",
      "execution_count": 35,
      "metadata": {
        "id": "kjQiFAh4Zb-4",
        "outputId": "d980edad-16dc-4d65-805c-17077475b914",
        "colab": {
          "base_uri": "https://localhost:8080/"
        }
      },
      "outputs": [
        {
          "output_type": "stream",
          "name": "stdout",
          "text": [
            "510922\n"
          ]
        }
      ],
      "source": [
        "for n in natural_numbers():\n",
        "    if n % 667 == 0 and n**2 % 766 == 0:\n",
        "        break\n",
        "print(n)"
      ]
    },
    {
      "cell_type": "markdown",
      "metadata": {
        "id": "XLVy-bPSZb-5"
      },
      "source": [
        "# Training with stochastic gradient descent\n",
        "\n",
        "We encapsulate the gradient descent training process in a `trainer` generator function.\n",
        "This generator function creates an iterator which, at every iteration, calculates the gradients and updates the coeffieint matrix $\\mathbf{W}$. It returns (yields) the number of iterations already performed."
      ]
    },
    {
      "cell_type": "markdown",
      "metadata": {
        "id": "CkVdAJ6pZb-5"
      },
      "source": [
        "This `trainer` doesn't use all the images at each update but rather just a batch of 50 images.\n",
        "This is called [stochastic gradient descent](https://en.wikipedia.org/wiki/Stochastic_gradient_descent) because we try to estimate the gradient from a sample of the data rather the entire data.\n",
        "It works well because (i) it's more efficeint in terms of memory to use 50 images at a time; and (ii) it helps to prevent over-fitting and escaping from local minima (of the cross entropy function) because at each stage we use a different set of images."
      ]
    },
    {
      "cell_type": "code",
      "execution_count": 36,
      "metadata": {
        "id": "6ZbSNdnBZb-6"
      },
      "outputs": [],
      "source": [
        "batch_size = 50\n",
        "\n",
        "def trainer(W, X, Y, batch_size=batch_size, η=0.001):\n",
        "    nsamples = X.shape[0]\n",
        "    batch = 0\n",
        "    while True:        \n",
        "        # get next batch X_, Y_\n",
        "        start = (batch * batch_size) % nsamples\n",
        "        stop = start + batch_size\n",
        "        batch_idx = range(start, stop)\n",
        "        X_, Y_ = X[batch_idx, :], Y[batch_idx, :]\n",
        "        # compute gradients\n",
        "        dW = gradient(W, X_, Y_) \n",
        "        # compute updates\n",
        "        ΔW = -η * dW \n",
        "        # apply updates in place\n",
        "        W += ΔW \n",
        "        # update iteration and yield\n",
        "        batch += 1\n",
        "        yield batch # trainer is suspended until next iteration"
      ]
    },
    {
      "cell_type": "markdown",
      "metadata": {
        "id": "6LrWRh7JZb-6"
      },
      "source": [
        "We have 60,000 images, and work with batches of 50, so it takes 1,200 batches to go over the entire dataset.\n",
        "This is called an _epoch_.\n",
        "Let's train for 10 epochs."
      ]
    },
    {
      "cell_type": "code",
      "execution_count": 37,
      "metadata": {
        "id": "BPgkpwx0Zb-6",
        "outputId": "de5d1ab3-a025-4f9a-d62b-6c7e193c2ac3",
        "colab": {
          "base_uri": "https://localhost:8080/"
        }
      },
      "outputs": [
        {
          "output_type": "stream",
          "name": "stdout",
          "text": [
            "Accuracy: 0.0724\n"
          ]
        }
      ],
      "source": [
        "W = random_matrix(nfeatures, ncats)\n",
        "train = trainer(W, X_train, Y_train)\n",
        "test_acc = [accuracy(predict(W, X_test), Y_test)]\n",
        "print(\"Accuracy: {:.4f}\".format(test_acc[-1]))"
      ]
    },
    {
      "cell_type": "code",
      "execution_count": 38,
      "metadata": {
        "id": "zfOsqn3JZb-7",
        "outputId": "2bc124a8-7708-48c9-87aa-5fd96da0e293",
        "colab": {
          "base_uri": "https://localhost:8080/"
        }
      },
      "outputs": [
        {
          "output_type": "stream",
          "name": "stdout",
          "text": [
            "CPU times: user 10.9 s, sys: 10.2 s, total: 21.1 s\n",
            "Wall time: 10.8 s\n"
          ]
        }
      ],
      "source": [
        "%%time\n",
        "for batch in train:\n",
        "    if batch * batch_size % nsamples == 0: test_acc.append(accuracy(predict(W, X_test), Y_test))\n",
        "    if batch == 10 * nsamples // batch_size: break"
      ]
    },
    {
      "cell_type": "code",
      "execution_count": 39,
      "metadata": {
        "id": "UBahiTweZb-7",
        "outputId": "26bac953-5262-46b8-c761-cd05e229bf46",
        "colab": {
          "base_uri": "https://localhost:8080/"
        }
      },
      "outputs": [
        {
          "output_type": "stream",
          "name": "stdout",
          "text": [
            "Accuracy (12000): 0.8968\n"
          ]
        }
      ],
      "source": [
        "print(\"Accuracy ({:d}): {:.4f}\".format(batch, test_acc[-1]))"
      ]
    },
    {
      "cell_type": "code",
      "execution_count": 40,
      "metadata": {
        "id": "v6CD3n9bZb-7",
        "outputId": "e5396113-c972-4930-c1d5-2735a89ba65a",
        "colab": {
          "base_uri": "https://localhost:8080/",
          "height": 301
        }
      },
      "outputs": [
        {
          "output_type": "display_data",
          "data": {
            "text/plain": [
              "<Figure size 432x288 with 1 Axes>"
            ],
            "image/png": "[encoded data removed]"
          },
          "metadata": {
            "needs_background": "light"
          }
        }
      ],
      "source": [
        "plt.plot(test_acc)\n",
        "plt.xlabel('epochs')\n",
        "plt.ylabel('test accuracy');"
      ]
    },
    {
      "cell_type": "markdown",
      "metadata": {
        "id": "EhCu-eOuZb-8"
      },
      "source": [
        "Nice, with 10 epochs we get an accuracy of ~89%."
      ]
    },
    {
      "cell_type": "code",
      "execution_count": 41,
      "metadata": {
        "id": "BBMS7VOpZb-8"
      },
      "outputs": [],
      "source": [
        "def display_prediction(idx):\n",
        "    print(predict(W, X_test[idx, :]).argmax())\n",
        "    return display_image(X_test[idx])"
      ]
    },
    {
      "cell_type": "code",
      "execution_count": 42,
      "metadata": {
        "id": "vRfzM8taZb-8",
        "outputId": "6ae84cd9-aa25-42cd-c401-abc492a9cd7f",
        "colab": {
          "base_uri": "https://localhost:8080/",
          "height": 274
        }
      },
      "outputs": [
        {
          "output_type": "stream",
          "name": "stdout",
          "text": [
            "0\n"
          ]
        },
        {
          "output_type": "display_data",
          "data": {
            "text/plain": [
              "<Figure size 432x288 with 1 Axes>"
            ],
            "image/png": "[encoded data removed]"
          },
          "metadata": {}
        }
      ],
      "source": [
        "display_prediction(55)"
      ]
    },
    {
      "cell_type": "markdown",
      "metadata": {
        "id": "Y6v9y3O3Zb-8"
      },
      "source": [
        "# How does it work?\n",
        "\n",
        "Let's look at the values of `W`, where blue is for positive values and red for negative values:"
      ]
    },
    {
      "cell_type": "code",
      "execution_count": 43,
      "metadata": {
        "id": "eEaOzP0aZb-8",
        "outputId": "b8b721f1-4df6-41f3-8929-b995107db71b",
        "colab": {
          "base_uri": "https://localhost:8080/",
          "height": 409
        }
      },
      "outputs": [
        {
          "output_type": "display_data",
          "data": {
            "text/plain": [
              "<Figure size 864x432 with 10 Axes>"
            ],
            "image/png": "[encoded data removed]"
          },
          "metadata": {}
        }
      ],
      "source": [
        "import matplotlib as mpl\n",
        "\n",
        "W_ = W.reshape(width, height, ncats)\n",
        "\n",
        "fig, axes = plt.subplots(2, 5, figsize=(12, 6), sharex=True, sharey=True)\n",
        "for i, ax in enumerate(axes.flat):\n",
        "    im = ax.imshow(np.exp(W_[:, :, i]), cmap='RdBu', vmin=0.7, vmax=1.3)\n",
        "    ax.set_title(i)\n",
        "ax.set(xticks=[], yticks=[])\n",
        "fig.tight_layout()\n",
        "sns.despine(bottom=True, left=True)"
      ]
    },
    {
      "cell_type": "markdown",
      "metadata": {
        "id": "emymFip-Zb-9"
      },
      "source": [
        "So for each digit we got a map of which pixels increase (blue) the log-odds when they are black and which decrease  (red) the log-odds when they are black."
      ]
    },
    {
      "cell_type": "markdown",
      "metadata": {
        "id": "qaVM7MBzZb-9"
      },
      "source": [
        "# Saving the fitted model\n",
        "\n",
        "NumPy has special pickling functions for arrays, and in this case all the model information is in the `W` array.\n",
        "\n",
        "I like to save it compressed to `.npz` but there are [other options]."
      ]
    },
    {
      "cell_type": "code",
      "execution_count": 45,
      "metadata": {
        "id": "_7XQJ2dfZb-9"
      },
      "outputs": [],
      "source": [
        "np.savez_compressed('./softmax_reg_model.npz', W=W)\n",
        "del W"
      ]
    },
    {
      "cell_type": "markdown",
      "metadata": {
        "id": "mBgmD7kXZb-9"
      },
      "source": [
        "Loading is easy:"
      ]
    },
    {
      "cell_type": "code",
      "execution_count": 48,
      "metadata": {
        "id": "Txt8fEquZb-9"
      },
      "outputs": [],
      "source": [
        "with np.load('./softmax_reg_model.npz', allow_pickle=True) as npz:\n",
        "    W = npz['W']"
      ]
    },
    {
      "cell_type": "markdown",
      "metadata": {
        "id": "BGGRKlJ7Zb-9"
      },
      "source": [
        "and we can use it again."
      ]
    },
    {
      "cell_type": "code",
      "execution_count": 49,
      "metadata": {
        "id": "fAt6DyVlZb--",
        "outputId": "24c5eadf-3a37-4a4e-b45d-9663a32dad69",
        "colab": {
          "base_uri": "https://localhost:8080/",
          "height": 274
        }
      },
      "outputs": [
        {
          "output_type": "stream",
          "name": "stdout",
          "text": [
            "5\n"
          ]
        },
        {
          "output_type": "display_data",
          "data": {
            "text/plain": [
              "<Figure size 432x288 with 1 Axes>"
            ],
            "image/png": "[encoded data removed]"
          },
          "metadata": {}
        }
      ],
      "source": [
        "display_prediction(23)"
      ]
    },
    {
      "cell_type": "markdown",
      "metadata": {
        "id": "tTKiwV_iZb--"
      },
      "source": [
        "# Problem\n",
        "\n",
        "The major assumption of the softmax model is the linear relationship between the features $x_j$ and the log-odds $z_k$, which translates to a logistic relationship between the features and the probabilityies $\\widehat y_k$.\n",
        "\n",
        "But what can we do if the relationship is not linear, or worse, not even monotonic?"
      ]
    },
    {
      "cell_type": "markdown",
      "metadata": {
        "id": "1tDDEkA5Zb--"
      },
      "source": [
        "## Neural networks\n",
        "\n",
        "Instead of just looking for the values of $W$ that would make the model fit the data, we can use a stack a bunch of linear models:\n",
        "\n",
        "$$\n",
        "\\mathbf{X_2} = f_1(\\mathbf{X_1} \\mathbf{W_1}) \\\\\n",
        "\\mathbf{X_3} = f_2(\\mathbf{X_2} \\mathbf{W_2}) \\\\\n",
        "\\ldots \\\\\n",
        "\\mathbf{\\widehat Y} = softmax(\\mathbf{X_n} \\mathbf{W_n})\n",
        "$$\n",
        "\n",
        "and fit this model to the data by looking for $\\mathbf{W_1}, \\ldots, \\mathbf{W_n}$ that give us a good prediction.\n",
        "\n",
        "Note that all of the mathematical details are the same: we can still use gradient descent to fit the model, and we can still calculate the gradients using the chain rule.\n",
        "The additional power of the model comes from adding multiple *layers* of linear models; the *simplicity* fo the model is maintained because we are adding linear models, which we already know how to handle, rather than adding arbitray models.\n",
        "Interestingly, if we add just a bit of non-linerity (we'll see what that means) we can approximate a very wide range of relationships between $x$ and $P(y=k)$, without engineering features on our own.\n",
        "\n",
        "The downside is that we are fitting many more *model parameters* ($W_k$), which involves longer computation and requires more sophisticated strategies for gradient descent.\n",
        "These issues are the subject of [intense research](https://arxiv.org/list/cs.NE/recent) both in Academia and in Industry.\n",
        "\n",
        "So this is the motivation for our next session on [feed forward networks](FFN.ipynb)."
      ]
    },
    {
      "cell_type": "markdown",
      "metadata": {
        "id": "hNAaKk63Zb--"
      },
      "source": [
        "# Colophon\n",
        "This notebook was written by [Yoav Ram](http://python.yoavram.com) and is part of the [_Scientific Computing with Python_](https://scicompy.yoavram.com/) course at IDC Herzliya.\n",
        "\n",
        "The notebook was written using [Python](http://python.org/) 3.6.5.\n",
        "Dependencies listed in [environment.yml](../environment.yml).\n",
        "\n",
        "This work is licensed under a CC BY-NC-SA 4.0 International License.\n",
        "\n",
        "![Python logo](https://www.python.org/static/community_logos/python-logo.png)"
      ]
    }
  ],
  "metadata": {
    "kernelspec": {
      "display_name": "Python [conda env:SciComPy]",
      "language": "python",
      "name": "conda-env-SciComPy-py"
    },
    "language_info": {
      "codemirror_mode": {
        "name": "ipython",
        "version": 3
      },
      "file_extension": ".py",
      "mimetype": "text/x-python",
      "name": "python",
      "nbconvert_exporter": "python",
      "pygments_lexer": "ipython3",
      "version": "3.7.6"
    },
    "colab": {
      "name": "softmax-model.ipynb",
      "provenance": []
    },
    "widgets": {
      "application/vnd.jupyter.widget-state+json": {
        "e8fd8ae0357c4b459eb847d5263b15da": {
          "model_module": "@jupyter-widgets/controls",
          "model_name": "VBoxModel",
          "model_module_version": "1.5.0",
          "state": {
            "_dom_classes": [
              "widget-interact"
            ],
            "_model_module": "@jupyter-widgets/controls",
            "_model_module_version": "1.5.0",
            "_model_name": "VBoxModel",
            "_view_count": null,
            "_view_module": "@jupyter-widgets/controls",
            "_view_module_version": "1.5.0",
            "_view_name": "VBoxView",
            "box_style": "",
            "children": [
              "IPY_MODEL_9a57ffc0168743cc9a99eb2c6da92aba",
              "IPY_MODEL_870ff8e657f140ba90a7ffd593db0356"
            ],
            "layout": "IPY_MODEL_9a90d09f883c4f85ac58ec27632f3658"
          }
        },
        "9a57ffc0168743cc9a99eb2c6da92aba": {
          "model_module": "@jupyter-widgets/controls",
          "model_name": "IntSliderModel",
          "model_module_version": "1.5.0",
          "state": {
            "_dom_classes": [],
            "_model_module": "@jupyter-widgets/controls",
            "_model_module_version": "1.5.0",
            "_model_name": "IntSliderModel",
            "_view_count": null,
            "_view_module": "@jupyter-widgets/controls",
            "_view_module_version": "1.5.0",
            "_view_name": "IntSliderView",
            "continuous_update": true,
            "description": "idx",
            "description_tooltip": null,
            "disabled": false,
            "layout": "IPY_MODEL_0876710eb53345ff975cc43e91de1d10",
            "max": 59999,
            "min": 0,
            "orientation": "horizontal",
            "readout": true,
            "readout_format": "d",
            "step": 1,
            "style": "IPY_MODEL_5569ef3c70564ff7841a49d077276c32",
            "value": 29999
          }
        },
        "870ff8e657f140ba90a7ffd593db0356": {
          "model_module": "@jupyter-widgets/output",
          "model_name": "OutputModel",
          "model_module_version": "1.0.0",
          "state": {
            "_dom_classes": [],
            "_model_module": "@jupyter-widgets/output",
            "_model_module_version": "1.0.0",
            "_model_name": "OutputModel",
            "_view_count": null,
            "_view_module": "@jupyter-widgets/output",
            "_view_module_version": "1.0.0",
            "_view_name": "OutputView",
            "layout": "IPY_MODEL_dfcaea591ff841d8be801b7f8d18a52f",
            "msg_id": "",
            "outputs": [
              {
                "output_type": "stream",
                "name": "stdout",
                "text": [
                  "1\n",
                  "[0 1 0 0 0 0 0 0 0 0]\n"
                ]
              },
              {
                "output_type": "display_data",
                "data": {
                  "text/plain": "<Figure size 432x288 with 1 Axes>",
                  "image/png": "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\n"
                },
                "metadata": {}
              }
            ]
          }
        },
        "9a90d09f883c4f85ac58ec27632f3658": {
          "model_module": "@jupyter-widgets/base",
          "model_name": "LayoutModel",
          "model_module_version": "1.2.0",
          "state": {
            "_model_module": "@jupyter-widgets/base",
            "_model_module_version": "1.2.0",
            "_model_name": "LayoutModel",
            "_view_count": null,
            "_view_module": "@jupyter-widgets/base",
            "_view_module_version": "1.2.0",
            "_view_name": "LayoutView",
            "align_content": null,
            "align_items": null,
            "align_self": null,
            "border": null,
            "bottom": null,
            "display": null,
            "flex": null,
            "flex_flow": null,
            "grid_area": null,
            "grid_auto_columns": null,
            "grid_auto_flow": null,
            "grid_auto_rows": null,
            "grid_column": null,
            "grid_gap": null,
            "grid_row": null,
            "grid_template_areas": null,
            "grid_template_columns": null,
            "grid_template_rows": null,
            "height": null,
            "justify_content": null,
            "justify_items": null,
            "left": null,
            "margin": null,
            "max_height": null,
            "max_width": null,
            "min_height": null,
            "min_width": null,
            "object_fit": null,
            "object_position": null,
            "order": null,
            "overflow": null,
            "overflow_x": null,
            "overflow_y": null,
            "padding": null,
            "right": null,
            "top": null,
            "visibility": null,
            "width": null
          }
        },
        "0876710eb53345ff975cc43e91de1d10": {
          "model_module": "@jupyter-widgets/base",
          "model_name": "LayoutModel",
          "model_module_version": "1.2.0",
          "state": {
            "_model_module": "@jupyter-widgets/base",
            "_model_module_version": "1.2.0",
            "_model_name": "LayoutModel",
            "_view_count": null,
            "_view_module": "@jupyter-widgets/base",
            "_view_module_version": "1.2.0",
            "_view_name": "LayoutView",
            "align_content": null,
            "align_items": null,
            "align_self": null,
            "border": null,
            "bottom": null,
            "display": null,
            "flex": null,
            "flex_flow": null,
            "grid_area": null,
            "grid_auto_columns": null,
            "grid_auto_flow": null,
            "grid_auto_rows": null,
            "grid_column": null,
            "grid_gap": null,
            "grid_row": null,
            "grid_template_areas": null,
            "grid_template_columns": null,
            "grid_template_rows": null,
            "height": null,
            "justify_content": null,
            "justify_items": null,
            "left": null,
            "margin": null,
            "max_height": null,
            "max_width": null,
            "min_height": null,
            "min_width": null,
            "object_fit": null,
            "object_position": null,
            "order": null,
            "overflow": null,
            "overflow_x": null,
            "overflow_y": null,
            "padding": null,
            "right": null,
            "top": null,
            "visibility": null,
            "width": null
          }
        },
        "5569ef3c70564ff7841a49d077276c32": {
          "model_module": "@jupyter-widgets/controls",
          "model_name": "SliderStyleModel",
          "model_module_version": "1.5.0",
          "state": {
            "_model_module": "@jupyter-widgets/controls",
            "_model_module_version": "1.5.0",
            "_model_name": "SliderStyleModel",
            "_view_count": null,
            "_view_module": "@jupyter-widgets/base",
            "_view_module_version": "1.2.0",
            "_view_name": "StyleView",
            "description_width": "",
            "handle_color": null
          }
        },
        "dfcaea591ff841d8be801b7f8d18a52f": {
          "model_module": "@jupyter-widgets/base",
          "model_name": "LayoutModel",
          "model_module_version": "1.2.0",
          "state": {
            "_model_module": "@jupyter-widgets/base",
            "_model_module_version": "1.2.0",
            "_model_name": "LayoutModel",
            "_view_count": null,
            "_view_module": "@jupyter-widgets/base",
            "_view_module_version": "1.2.0",
            "_view_name": "LayoutView",
            "align_content": null,
            "align_items": null,
            "align_self": null,
            "border": null,
            "bottom": null,
            "display": null,
            "flex": null,
            "flex_flow": null,
            "grid_area": null,
            "grid_auto_columns": null,
            "grid_auto_flow": null,
            "grid_auto_rows": null,
            "grid_column": null,
            "grid_gap": null,
            "grid_row": null,
            "grid_template_areas": null,
            "grid_template_columns": null,
            "grid_template_rows": null,
            "height": null,
            "justify_content": null,
            "justify_items": null,
            "left": null,
            "margin": null,
            "max_height": null,
            "max_width": null,
            "min_height": null,
            "min_width": null,
            "object_fit": null,
            "object_position": null,
            "order": null,
            "overflow": null,
            "overflow_x": null,
            "overflow_y": null,
            "padding": null,
            "right": null,
            "top": null,
            "visibility": null,
            "width": null
          }
        }
      }
    }
  },
  "nbformat": 4,
  "nbformat_minor": 0
}