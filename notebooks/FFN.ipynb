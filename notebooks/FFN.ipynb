{
  "cells": [
    {
      "cell_type": "markdown",
      "metadata": {
        "id": "WEEgE7xucUTF"
      },
      "source": [
        "# Feed Forward Network\n",
        "\n",
        "## [Scientific Computing with Python](http://scicompy.yoavram.com)\n",
        "## Yoav Ram\n",
        "\n",
        "In this session we will understand:\n",
        "- what feed forward networks are and how they work,\n",
        "- how to back-propagate gradients in a multi-layer network\n",
        "- how to efficiently fit multi-layer networks using adaptive gradient descent techniques\n",
        "- how to feed backwards to generate instead of classify"
      ]
    },
    {
      "cell_type": "code",
      "execution_count": 25,
      "metadata": {
        "id": "RCRAa_YzcUTJ"
      },
      "outputs": [],
      "source": [
        "%matplotlib inline\n",
        "import matplotlib.pyplot as plt\n",
        "import numpy as np\n",
        "import pandas as pd\n",
        "import scipy.optimize\n",
        "from scipy.special import expit\n",
        "import scipy.misc\n",
        "import seaborn as sns\n",
        "sns.set(\n",
        "    style='ticks'\n",
        ")\n",
        "from ipywidgets import interact"
      ]
    },
    {
      "cell_type": "markdown",
      "metadata": {
        "id": "45l02GyEcUTM"
      },
      "source": [
        "We start by loading the MNIST digits data we used in the [softmax model session](softmax-model.ipynb)."
      ]
    },
    {
      "cell_type": "code",
      "execution_count": 26,
      "metadata": {
        "id": "hB_g9ZCjcUTN"
      },
      "outputs": [],
      "source": [
        "try: \n",
        "    from tensorflow import keras \n",
        "except ImportError:\n",
        "    import keras\n",
        "    \n",
        "(X_train, Y_train), (X_test, Y_test) = keras.datasets.mnist.load_data()"
      ]
    },
    {
      "cell_type": "code",
      "execution_count": 27,
      "metadata": {
        "id": "H1c_Uff9cUTO"
      },
      "outputs": [],
      "source": [
        "nsamples, width, height = X_train.shape\n",
        "nfeatures = width * height\n",
        "X_train = X_train.reshape(-1, nfeatures)\n",
        "X_test = X_test.reshape(-1, nfeatures)"
      ]
    },
    {
      "cell_type": "code",
      "execution_count": 28,
      "metadata": {
        "id": "m6uokwqTcUTP"
      },
      "outputs": [],
      "source": [
        "def onehot(labels):\n",
        "    nsamples = len(labels)\n",
        "    Y = np.zeros((nsamples, len(np.unique(labels))))\n",
        "    Y[np.arange(nsamples), labels] = 1\n",
        "    return Y\n",
        "\n",
        "Y_train = onehot(Y_train)\n",
        "Y_test = onehot(Y_test)\n",
        "ncats = Y_test.shape[1]"
      ]
    },
    {
      "cell_type": "code",
      "execution_count": 29,
      "metadata": {
        "id": "YNU-RaNEcUTQ",
        "outputId": "b3b20067-ac8a-4b87-d95d-3d77d919d23d",
        "colab": {
          "base_uri": "https://localhost:8080/",
          "height": 254
        }
      },
      "outputs": [
        {
          "output_type": "display_data",
          "data": {
            "text/plain": [
              "<Figure size 432x288 with 1 Axes>"
            ],
            "image/png": "[encoded data removed]"
          },
          "metadata": {}
        }
      ],
      "source": [
        "def display_image(im):\n",
        "    plt.imshow(im.reshape((width, height)), cmap='gray_r')\n",
        "    plt.xticks([])\n",
        "    plt.yticks([])\n",
        "    \n",
        "display_image(X_train[4])"
      ]
    },
    {
      "cell_type": "markdown",
      "metadata": {
        "id": "m8JragCvcUTU"
      },
      "source": [
        "With softmax regression we got accuracy of ~87% (or even up to 92% if we run it longer, see the scikit-learn example).\n",
        "But we talked about the problems with logistic models and that it might be that the relationship between pixels and categories is not linear or even monotone.\n",
        "We also discussed a way to overcome this issue - polynomial features.\n",
        "\n",
        "Here we will use another solution - the layering or composition of several linear models.\n",
        "\n",
        "The idea is that for an input (features) $\\mathbf{X_1}$, the model we will use is:\n",
        "\n",
        "$$\n",
        "\\mathbf{X_2} = f_1(\\mathbf{X_1} \\cdot  \\mathbf{W_1}) \\\\\n",
        "\\mathbf{X_3} = f_2(\\mathbf{X_2} \\cdot  \\mathbf{W_2}) \\\\\n",
        "\\ldots \\\\\n",
        "\\mathbf{\\widehat Y} = f_{n}(\\mathbf{X_n})\n",
        "$$\n",
        "\n",
        "We will fit this model to the data by looking for $\\mathbf{W_1}, \\ldots, \\mathbf{W_n}$ that give us a good prediction.\n",
        "\n",
        "This kind of model is called a **feed forward network**."
      ]
    },
    {
      "cell_type": "markdown",
      "metadata": {
        "id": "16DJoBOdcUTV"
      },
      "source": [
        "# Two layers FFN\n",
        "\n",
        "We start with two layers - the readout layer is the softmax regression layer, and before that we will have a hidden layer that transforms the input features $\\mathbf{X_1}$ into complex features $\\mathbf{X_2}$: each feature in $\\mathbf{X_2}$ is a combination of all features in $\\mathbf{X_1}$.\n",
        "\n",
        "We already implemented these functions in the previous session:"
      ]
    },
    {
      "cell_type": "code",
      "execution_count": 30,
      "metadata": {
        "id": "iNWNBWdacUTX"
      },
      "outputs": [],
      "source": [
        "def random_matrix(ninputs, noutputs):\n",
        "    boundary = np.sqrt(6 / (ninputs + noutputs))\n",
        "    return np.random.uniform(-boundary, boundary, size=(ninputs, noutputs))\n",
        "\n",
        "def softmax(x):\n",
        "    expx = np.exp(x - x.max(axis=1, keepdims=True))\n",
        "    return expx / expx.sum(axis=1, keepdims=True)\n",
        "\n",
        "def accuracy(Yhat, Y):\n",
        "    return (Y.argmax(axis=1) == Yhat.argmax(axis=1)).mean()\n",
        "\n",
        "def cross_entropy(Yhat, Y):\n",
        "    ylogy = Y * np.log(Yhat)\n",
        "    return -ylogy.sum()"
      ]
    },
    {
      "cell_type": "markdown",
      "metadata": {
        "id": "ecQKxqprcUTY"
      },
      "source": [
        "# Exercise: ReLU\n",
        "The readout layer uses the softmax function $f_2(z)=\\mathit{softmax}(z)$.\n",
        "What about $f_1(z)$?\n",
        "\n",
        "To add some non-linearity to the model, we want to use a non-linear function, usually called [*activation function*](https://en.wikipedia.org/wiki/Activation_function).\n",
        "For ease of use, we want a differentiable function that's easy and efficient to compute."
      ]
    },
    {
      "cell_type": "markdown",
      "metadata": {
        "id": "XASX-kmzcUTZ"
      },
      "source": [
        "There are several options we can use, and a common choise is the rectifier, or [*ReLU*](https://en.wikipedia.org/wiki/Rectifier_%28neural_networks%29) function:\n",
        "\n",
        "$$\n",
        "ReLU(x) = \\cases{x, & x>0 \\\\ 0, &  x < 0 \\\\ }\n",
        "$$\n",
        "\n",
        "with a derivative\n",
        "\n",
        "$$\n",
        "\\frac{d}{dx}ReLU(x) = \\cases{1, &  x>0 \\\\ 0, & x < 0 \\\\ }\n",
        "$$\n",
        "\n",
        "Implement these functions."
      ]
    },
    {
      "cell_type": "code",
      "execution_count": 59,
      "metadata": {
        "id": "S71rPP4hcUTa"
      },
      "outputs": [],
      "source": [
        "def ReLU(X):\n",
        "    # your code here\n",
        "    ret = X.copy()\n",
        "    ret[ret < 0] = 0\n",
        "    return ret\n",
        "\n",
        "def dReLU(X):\n",
        "    # your code here\n",
        "    ret = X.copy()\n",
        "    ret[ret < 0] = 0\n",
        "    ret[ret > 0] = 1\n",
        "    return ret\n"
      ]
    },
    {
      "cell_type": "code",
      "execution_count": 47,
      "metadata": {
        "id": "KUbMZ59IcUTb",
        "outputId": "adecb65f-920e-4d74-ac96-faa94aee344d",
        "colab": {
          "base_uri": "https://localhost:8080/"
        }
      },
      "outputs": [
        {
          "output_type": "execute_result",
          "data": {
            "text/plain": [
              "array([-5.25915233,  7.60782821, -1.07734774,  3.09899627, -2.27264744])"
            ]
          },
          "metadata": {},
          "execution_count": 47
        }
      ],
      "source": [
        "ReLU(np.random.uniform(-10, 10, 5))"
      ]
    },
    {
      "cell_type": "code",
      "execution_count": 61,
      "metadata": {
        "id": "ASOEQRXOcUTb",
        "outputId": "b5debbc2-94e1-4ea4-faf1-d29533ef7690",
        "colab": {
          "base_uri": "https://localhost:8080/"
        }
      },
      "outputs": [
        {
          "output_type": "stream",
          "name": "stdout",
          "text": [
            "[0.93345985 4.22608938 4.75241386 5.42054287 4.9918954 ]\n",
            "[0.93345985 4.22608938 4.75241386 5.42054287 4.9918954 ]\n",
            "[1. 1. 1. 1. 1.]\n"
          ]
        }
      ],
      "source": [
        "arr = np.random.uniform(-10, 10, 5)\n",
        "print(arr)\n",
        "print(ReLU(arr))\n",
        "print(dReLU(arr))"
      ]
    },
    {
      "cell_type": "markdown",
      "metadata": {
        "id": "ddyZFeT2cUTc"
      },
      "source": [
        "# Dropout\n",
        "\n",
        "A simple way to avoid overfitting is to use [*dropout*](https://www.cs.toronto.edu/~hinton/absps/JMLRdropout.pdf): randomly ignoring some elements of every layer during training (but not during prediction)."
      ]
    },
    {
      "cell_type": "code",
      "execution_count": 62,
      "metadata": {
        "id": "SST7u7_hcUTc"
      },
      "outputs": [],
      "source": [
        "def drop(X, keep_prob=1):\n",
        "    if keep_prob < 1:\n",
        "        X = X.copy() # we don't want to change X\n",
        "        keeps = np.random.rand(X.shape[1]) < keep_prob\n",
        "        # X.shape is (nsamples, nfeatures)\n",
        "        X[:, ~keeps] = 0 # ignore\n",
        "        X[:, keeps] *= (1/keep_prob) # normalize\n",
        "    return X"
      ]
    },
    {
      "cell_type": "markdown",
      "metadata": {
        "id": "dt-TXt_1cUTd"
      },
      "source": [
        "# Feed Forward\n",
        "\n",
        "Next, we want to write a function that for given input $\\mathbf{X_1}$ calculates $\\mathbf{\\widehat Y}$.\n",
        "But we also want to get all the intermediate layers, not just the final layer (the output, result of the readout layer).\n",
        "The reason will become clear soon, when we write the back-propagation.\n",
        "\n",
        "Prediction is then done by taking the last layer."
      ]
    },
    {
      "cell_type": "code",
      "execution_count": 63,
      "metadata": {
        "id": "Yp02ya0ZcUTd"
      },
      "outputs": [],
      "source": [
        "def feed_forward(Ws, X, keep_prob=1):\n",
        "    X1 = X\n",
        "    W1, W2 = Ws\n",
        "    # hidden layer\n",
        "    Z1 = X1 @ W1 \n",
        "    Z1 = drop(Z1, keep_prob=keep_prob)\n",
        "    X2 = ReLU(Z1) \n",
        "    # readout layer\n",
        "    Z2 = X2 @ W2 \n",
        "    Yhat = softmax(Z2) \n",
        "    return [X1, Z1, X2, Z2, Yhat]\n",
        "\n",
        "def predict(Ws, X):\n",
        "    X = np.atleast_2d(X)\n",
        "    return feed_forward(Ws, X, keep_prob=1)[-1]\n",
        "\n",
        "def display_prediction(idx):\n",
        "    prediction = predict(Ws, X_test[idx, :]).argmax()\n",
        "    print(prediction)\n",
        "    return display_image(X_test[idx])"
      ]
    },
    {
      "cell_type": "code",
      "execution_count": 64,
      "metadata": {
        "id": "5eJlQk2PcUTe",
        "outputId": "e005dde5-7af8-4997-d7af-c3f2f0ff57a2",
        "colab": {
          "base_uri": "https://localhost:8080/",
          "height": 271
        }
      },
      "outputs": [
        {
          "output_type": "stream",
          "name": "stdout",
          "text": [
            "9\n"
          ]
        },
        {
          "output_type": "display_data",
          "data": {
            "text/plain": [
              "<Figure size 432x288 with 1 Axes>"
            ],
            "image/png": "[encoded data removed]"
          },
          "metadata": {}
        }
      ],
      "source": [
        "nhidden = 100\n",
        "W1 = random_matrix(nfeatures, nhidden)\n",
        "W2 = random_matrix(nhidden, ncats)\n",
        "Ws = [W1, W2]\n",
        "\n",
        "display_prediction(0)"
      ]
    },
    {
      "cell_type": "markdown",
      "metadata": {
        "id": "lg9Y-EgscUTf"
      },
      "source": [
        "# Back propagation\n",
        "\n",
        "We now arrive at the most complicated and important part: the calculation of the gradeints of the loss function with respect to the $\\mathbf{W_k}$ matrices - the model parameters, the weights of the network.\n",
        "\n",
        "Since we use the softmax function, the loss function is still the cross-entropy function $\\mathbf{J}(\\mathbf{W_1}, \\ldots, \\mathbf{W_n} \\mid \\mathbf{X_1}, \\mathbf{Y})$, the negative of the log-likelihood.\n",
        "\n",
        "We know how to do gradient descent, but we need to calculate the gradient.\n",
        "This seems at first very hard for a model as complex as:\n",
        "$$\n",
        "\\mathbf{Z_1} = \\mathbf{X_1} \\cdot  \\mathbf{W_1} \\\\\n",
        "\\mathbf{X_2} = f_1(\\mathbf{Z_1}) \\\\\n",
        "\\mathbf{Z_2} = \\mathbf{X_2} \\cdot \\mathbf{W_2} \\\\\n",
        "\\mathbf{X_3} = f_2(\\mathbf{Z_2}) \\\\\n",
        "\\ldots \\\\\n",
        "\\mathbf{\\widehat Y} = f_{n}(\\mathbf{Z_n}) \\\\\n",
        "\\mathbf{J} = - \\sum_{j=1}^{nsamples}{ \\sum_{k=1}^{ncats}{y_{j,k} \\log{\\widehat y_{j,k}}} }\n",
        "$$\n",
        "\n",
        "But we actually know how to calculate the gradient at each layer $\\frac{\\partial \\mathbf{X_k}}{\\partial \\mathbf{X_{k-1}}}$ so calculating the gradient with respect to any $\\mathbf{W_k}$ is just a matter of applying the chain rule as many times as we need.\n",
        "\n",
        "The idea is that we first calculate the loss function - **feed forward**.\n",
        "Then we apply the chain rule in reverse iteration to calculate the gradient of the loss function $\\mathbf{J}$ with respect to all $\\mathbf{W_k}$.\n",
        "Since the gradient at any layer is calculated as a function of the error measured in the previous layer, we essentially propagate the error backwards, thus the name for this algorithm - [**back propagation**](https://en.wikipedia.org/wiki/Backpropagation)."
      ]
    },
    {
      "cell_type": "markdown",
      "metadata": {
        "id": "VQuIn5krcUTf"
      },
      "source": [
        "To calculate $\\partial \\mathbf{J}/\\partial W_2$ we have the exact same calculation as in the [logistic](logistic-model.ipynb) or softmax model (makes sense as $\\mathbf{W_2}$ is the softmax layer)\n",
        "\n",
        "$$\n",
        "\\frac{\\partial \\mathbf{J}}{\\partial W_2} = \n",
        "\\frac{\\partial \\mathbf{J}}{\\partial \\widehat Y} \\cdot \\frac{\\partial \\widehat Y}{\\partial Z_2} \\cdot  \\frac{\\partial Z_2}{\\partial W_2}\n",
        "$$"
      ]
    },
    {
      "cell_type": "markdown",
      "metadata": {
        "id": "tdQ995k0cUTf"
      },
      "source": [
        "To calculate $\\partial \\mathbf{J}/\\partial \\mathbf{W_1}$ (which is a matrix with the same number of entries as $\\mathbf{W_1}$) we can use a similar but longer calculation as the readout layer:\n",
        "\n",
        "$$\n",
        "\\frac{\\partial \\mathbf{J}}{\\partial \\mathbf{W_1}} = \n",
        "\\frac{\\partial \\mathbf{J}}{\\partial \\mathbf{\\widehat Y}} \\cdot \\frac{\\partial \\mathbf{\\widehat Y}}{\\partial \\mathbf{Z_2}} \\cdot \\frac{\\partial \\mathbf{Z_2}}{\\partial \\mathbf{X_2}} \\cdot \\frac{\\partial \\mathbf{X_2}}{\\partial \\mathbf{Z_1}} \\cdot \\frac{\\partial \\mathbf{Z_1}}{\\partial \\mathbf{W_1}}\n",
        "$$\n",
        "\n",
        "Note that the first terms of this product were already calculated when calculating $\\frac{\\partial C}{\\partial \\mathbf{W_2}}$; the term \n",
        "\n",
        "$$\n",
        "\\delta_2 = \\frac{\\partial \\mathbf{J}}{\\partial \\mathbf{\\widehat Y}} \\cdot \\frac{\\partial \\mathbf{\\widehat Y}}{\\partial \\mathbf{Z_2}}\n",
        "$$\n",
        "\n",
        "is considered the error of the previous layer, and it is back-propagated to the next layer:\n",
        "\n",
        "$$\n",
        "\\frac{\\partial \\mathbf{J}}{\\partial \\mathbf{W_1}} = \n",
        "\\delta_2 \\cdot \\frac{\\partial \\mathbf{Z_2}}{\\partial \\mathbf{X_2}} \\cdot \\frac{\\partial \\mathbf{X_2}}{\\partial \\mathbf{Z_1}} \\cdot \\frac{\\partial \\mathbf{Z_1}}{\\partial \\mathbf{W_1}}\n",
        "$$"
      ]
    },
    {
      "cell_type": "markdown",
      "metadata": {
        "id": "tdJ0DPv9cUTg"
      },
      "source": [
        "These are three easy opeations:\n",
        "$$\n",
        "\\frac{\\partial \\mathbf{X_2}}{\\partial \\mathbf{Z_1}} = \\frac{\\partial ReLU{(\\mathbf{Z_1})}}{\\partial \\mathbf{Z_1}} = ReLU'(\\mathbf{Z_1}) \\\\\n",
        "\\frac{\\partial \\mathbf{Z_1}}{\\partial \\mathbf{W_1}}=\\frac{\\partial (\\mathbf{X_1} \\mathbf{W_1})}{\\partial \\mathbf{W_1}} = \\mathbf{X_1} \\\\\n",
        "\\frac{\\partial \\mathbf{Z_2}}{\\partial \\mathbf{X_2}} = \\frac{\\partial (\\mathbf{X_2} \\mathbf{W_2})}{\\partial \\mathbf{X_2}} = \\mathbf{W_2}\n",
        "$$\n",
        "\n",
        "In the next layer $\\delta_1$ is updated to \n",
        "$$\n",
        "\\delta_1 = \\delta_2 \\cdot \\frac{\\partial \\mathbf{Z_2}}{\\partial \\mathbf{X_2}} \\cdot \\frac{\\partial \\mathbf{X_2}}{\\partial \\mathbf{Z_1}} = \\delta_2 \\cdot W_2 \\cdot Relu'(Z_1),\n",
        "$$\n",
        "thus *propagating back* the error $\\delta$.\n",
        "\n",
        "Consider that in forwarding we use the matrix multiplication to activate each node as a weighted average of the previous nodes (the weights given by $\\mathbf{W_k}$). \n",
        "Back propagation can be considered the reverse operation.\n",
        "\n",
        "The actual operators used below are chosen to avoid loops (except the loop through the layers which is unavoiable) and to keep the correct dimensions - see the discussion in the [softmax model session](softmax-model.ipynb#Gradient-descent)."
      ]
    },
    {
      "cell_type": "code",
      "execution_count": 65,
      "metadata": {
        "id": "hrId859fcUTh"
      },
      "outputs": [],
      "source": [
        "def back_propagation(Ws, X, Y, keep_prob=1):\n",
        "    W1, W2 = Ws\n",
        "    X1, Z1, X2, Z2, Yhat = feed_forward(Ws, X, keep_prob=keep_prob)\n",
        "\n",
        "    # readout layer\n",
        "    δ2 = Yhat - Y # prediction error, dJ/dYhat * dYhat/dZ2 (-1, ncats)\n",
        "    dW2 = X2.T @ δ2 # dJ/dW2 = δ2 * dZ2/dX2 = δ2 * X2\n",
        "\n",
        "    # hidden layer\n",
        "    δ1 = (δ2 @ W2.T) * dReLU(Z1) # δ1 = dJ/dX_2 = δ2 * dZ2/dX2 * dX2/dZ1 = δ2 * W2 * ReLU(Z1)\n",
        "    dW1 = X1.T @ δ1 # dJ/dW1 = δ1 * dZ1/dW1 = δ1 * X1\n",
        "\n",
        "    gradients = [dW1, dW2]\n",
        "    # sanity checks\n",
        "    assert len(gradients) == len(Ws), (len(gradients), len(Ws))\n",
        "    for dW, W in zip(gradients, Ws):\n",
        "        assert dW.shape == W.shape, (dW.shape, W.shape)\n",
        "    return gradients"
      ]
    },
    {
      "cell_type": "code",
      "execution_count": 66,
      "metadata": {
        "id": "g0jPV9aFcUTh",
        "outputId": "a9a5c688-2ffb-4338-e5df-9be0c5c0de67",
        "colab": {
          "base_uri": "https://localhost:8080/",
          "height": 85
        }
      },
      "outputs": [
        {
          "output_type": "display_data",
          "data": {
            "text/plain": [
              "<Figure size 1080x576 with 2 Axes>"
            ],
            "image/png": "[encoded data removed]"
          },
          "metadata": {}
        }
      ],
      "source": [
        "nhidden = 100\n",
        "W1 = random_matrix(nfeatures, nhidden)\n",
        "W2 = random_matrix(nhidden, ncats)\n",
        "Ws = [W1, W2]\n",
        "\n",
        "X, Y = X_train[:5, :], Y_train[:5, :]\n",
        "\n",
        "dW1, dW2 = back_propagation(Ws, X, Y)\n",
        "fig, axes = plt.subplots(1, 2, figsize=(15, 8))\n",
        "axes[0].imshow(dW1.T, cmap='viridis')\n",
        "axes[1].imshow(dW2.T, cmap='viridis')\n",
        "axes[0].set(xticks=[], yticks=[])\n",
        "axes[1].set(xticks=[], yticks=[]);"
      ]
    },
    {
      "cell_type": "markdown",
      "metadata": {
        "id": "e8CFx9XkcUTi"
      },
      "source": [
        "# Gradient checking\n",
        "\n",
        "Writing and implementing the gradient computation can be really hard.\n",
        "But there is a good way to sanity-check that we made the correct computation.\n",
        "\n",
        "Remember that the definition of a derivative is\n",
        "$$\n",
        "\\frac{d f}{d x}\\big(x\\big) = \\lim_{\\Delta \\to 0}{\\frac{f(x+\\Delta) - f(x-\\Delta)}{2\\Delta}}\n",
        "$$\n",
        "Therefore, we can compute the cross entropy at the params, then slightly change each parameter and compute the cross entropy again, and use these two computations as $f(x+\\Delta)$ and $f(x-\\Delta)$ where $x$ is the parameter we changed and $\\Delta$ is the slight change. \n",
        "Then we can compare $\\frac{f(x+\\Delta)-f(x-\\Delta)}{2\\Delta}$ to the gradient computed by back propagation and check that the difference is very small."
      ]
    },
    {
      "cell_type": "code",
      "execution_count": 67,
      "metadata": {
        "id": "LuWOBf0IcUTj",
        "outputId": "c418e684-da5a-469f-f689-0f954f28e85e",
        "colab": {
          "base_uri": "https://localhost:8080/"
        }
      },
      "outputs": [
        {
          "output_type": "stream",
          "name": "stdout",
          "text": [
            "W1\n"
          ]
        },
        {
          "output_type": "stream",
          "name": "stderr",
          "text": [
            "/usr/local/lib/python3.7/dist-packages/ipykernel_launcher.py:20: RuntimeWarning: invalid value encountered in double_scalars\n"
          ]
        },
        {
          "output_type": "stream",
          "name": "stdout",
          "text": [
            "W2\n",
            "6 5 5.1684397136534214e-06 5.093170329928398e-06 0.007335046196975781\n"
          ]
        }
      ],
      "source": [
        "def loss(Ws, X, Y):\n",
        "    Yhat = predict(Ws, X)\n",
        "    return cross_entropy(Yhat, Y)\n",
        "\n",
        "def gradient_check(Ws, X, Y, Δ=1e-5):\n",
        "    dWs = back_propagation(Ws, X, Y, keep_prob=1)\n",
        "    Ws_ = [W.copy() for W in Ws]\n",
        "\n",
        "    for i, (W_, dW_) in enumerate(zip(Ws_, dWs)):\n",
        "        print('W{}'.format(i+1))\n",
        "        for i in range(W_.shape[0]):\n",
        "            for j in range(W_.shape[1]):\n",
        "                dw = dW_[i, j]\n",
        "                W_[i,j] += Δ\n",
        "                loss1 = loss(Ws_, X, Y)\n",
        "                W_[i,j] -= 2*Δ\n",
        "                loss2 = loss(Ws_, X, Y)\n",
        "                W_[i,j] += Δ\n",
        "                dw_ = (loss1 - loss2) / (2 * Δ)\n",
        "                rel_error = abs(dw - dw_) / abs(dw + dw_)\n",
        "                if not np.isclose(dw_, dw):\n",
        "                    print(i, j, dw, dw_, rel_error)\n",
        "\n",
        "nhidden = 10\n",
        "W1 = random_matrix(nfeatures, nhidden)\n",
        "W2 = random_matrix(nhidden, ncats)\n",
        "Ws = [W1, W2]\n",
        "X, Y = X_train[:100,:], Y_train[:100,:]\n",
        "gradient_check(Ws, X, Y)"
      ]
    },
    {
      "cell_type": "markdown",
      "metadata": {
        "id": "17AzPEencUTk"
      },
      "source": [
        "# Momentum gradient descent\n",
        "\n",
        "There are many different ways to do stochastic gradient descent.\n",
        "Some of the algorithms adapt the learning rate $\\eta$ during training. \n",
        "The basic intuition is that when we are far from the minimum we want to advance in big steps and when we are near to the minimum we want to advance more carefully.\n",
        "\n",
        "The first optimization method we will use was described in [Rumelhart, Hinton & Williams, 1986](http://www.nature.com/doifinder/10.1038/323533a0).\n",
        "It is a momentum method, meaning that at each iteration (batch) the current update is calculated as a decaying average of the previous update and the current gradients:\n",
        "\n",
        "$$\n",
        "\\Delta W \\to \\alpha \\Delta W - \\eta \\frac{\\partial J}{\\partial W} \\\\\n",
        "W \\to W + \\Delta W\n",
        "$$\n",
        "\n",
        "This works fine, sometimes, but not as good as other algorithms. It simple and easy to implement, though, and gives a good sense of what other momentum-based algorithms do.\n",
        "See a [comparison of algorithms on MNIST](https://github.com/mazefeng/sgd-opt)."
      ]
    },
    {
      "cell_type": "code",
      "execution_count": 68,
      "metadata": {
        "id": "z1E9vyD_cUTl"
      },
      "outputs": [],
      "source": [
        "class MomentumOptimizer:\n",
        "    def __init__(self, α=0.9, η=0.05):\n",
        "        self.α = α\n",
        "        self.η = η\n",
        "        self.ΔWs = None\n",
        "\n",
        "    def send(self, dWs):\n",
        "        if self.ΔWs is None:\n",
        "            self.ΔWs = [0] * len(dWs)\n",
        "        \n",
        "        self.ΔWs = [\n",
        "            self.α * ΔW - self.η * dW\n",
        "            for ΔW, dW in zip(self.ΔWs, dWs)\n",
        "        ]\n",
        "        \n",
        "        for ΔW in self.ΔWs:\n",
        "            assert np.isfinite(ΔW).all()\n",
        "        return self.ΔWs"
      ]
    },
    {
      "cell_type": "code",
      "execution_count": 69,
      "metadata": {
        "id": "UtPIS46ocUTl",
        "outputId": "80558e0a-6a75-49ec-f0c3-b843f0aacde8",
        "colab": {
          "base_uri": "https://localhost:8080/"
        }
      },
      "outputs": [
        {
          "output_type": "stream",
          "name": "stdout",
          "text": [
            "[0.0, 0.0, 0.0]\n",
            "[-0.05, -0.05, -0.05]\n",
            "[-0.095, -0.095, -0.095]\n"
          ]
        }
      ],
      "source": [
        "optimizer = MomentumOptimizer()\n",
        "print(optimizer.send([0, 0, 0]))\n",
        "print(optimizer.send([1, 1, 1]))\n",
        "print(optimizer.send([1, 1, 1]))"
      ]
    },
    {
      "cell_type": "markdown",
      "metadata": {
        "id": "7GFA7IEicUTl"
      },
      "source": [
        "# Adam optimizer\n",
        "\n",
        "A more sophisticated optimizing algorithm is [Adam](https://arxiv.org/pdf/1412.6980v9.pdf).\n",
        "The algorithm to calculate the learning rate is in the linked paper in *Algorithm 1*, and the code below uses a slightly different order of compuation for efficieny.\n",
        "\n",
        "Intuitively, we calculate the weighted running averages of the gradients $\\mathbf{m}$ and of the squared gradeints $\\mathbf{v}$, with memory parameters $\\beta_1, \\beta_2$ such that the most recent gradient has a weight of $1-\\beta_1$ and $1-\\beta_2$:\n",
        "\n",
        "$$\n",
        "\\mathbf{m} \\to \\beta_1 \\mathbf{m} + (1-\\beta_1) \\frac{\\partial C}{\\partial \\mathbf{W}} \\\\\n",
        "\\mathbf{v} \\to \\beta_2 \\mathbf{v} + (1-\\beta_2) \\Big(\\frac{\\partial C}{\\partial \\mathbf{W}}\\Big)^2\n",
        "$$\n",
        "\n",
        "The ratio of $\\frac{\\mathbf{m}}{\\sqrt{\\mathbf{v}}}$ is similar to a *signal-to-noise* ratio, and we use this ratio instead of the gradients in a gradient descent scheme to update the parameters $\\mathbf{W}$:\n",
        "\n",
        "$$\n",
        "\\mathbf{W} \\to  \\mathbf{W} - \\alpha \\frac{\\mathbf{m}}{\\sqrt{\\mathbf{v}}}\n",
        "$$\n",
        "\n",
        "See the [paper by Kingma and Ba](https://arxiv.org/pdf/1412.6980v9.pdf) for more details and comparison to other optimization strategies.\n",
        "We use **Algorithm 1** from [Kingma and Ba](https://arxiv.org/pdf/1412.6980v9.pdf)."
      ]
    },
    {
      "cell_type": "code",
      "execution_count": 70,
      "metadata": {
        "id": "eWgNGknucUTm"
      },
      "outputs": [],
      "source": [
        "def average(prev, curr, β): \n",
        "    return [\n",
        "        β * p + (1 - β) * c\n",
        "        for p, c\n",
        "        in zip(prev, curr)\n",
        "    ]\n",
        "    \n",
        "class AdamOptimizer:\n",
        "    def __init__(self, α=0.001, β1=0.9, β2=0.999, ϵ=1e-8):\n",
        "        self.α = α\n",
        "        self.β1 = β1\n",
        "        self.β2 = β2\n",
        "        self.ϵ = ϵ\n",
        "        self.m = None\n",
        "        self.v = None\n",
        "        self.t = 0\n",
        "\n",
        "    def send(self, gradients):\n",
        "        if self.m is None:\n",
        "            self.m = [0] * len(gradients)\n",
        "        if self.v is None:\n",
        "            self.v = [0] * len(gradients)\n",
        "\n",
        "        self.t += 1\n",
        "        αt = self.α * np.sqrt(1 - self.β2**self.t) / (1 - self.β1**self.t)\n",
        "        self.m = average(self.m, gradients, self.β1)        \n",
        "        self.v = average(self.v, (g*g for g in gradients), self.β2)\n",
        "\n",
        "        updates = [-αt * mi / (np.sqrt(vi) + self.ϵ) for mi, vi in zip(self.m, self.v)]\n",
        "        for upd in updates:\n",
        "            assert np.isfinite(upd).all()\n",
        "        return updates"
      ]
    },
    {
      "cell_type": "code",
      "execution_count": 71,
      "metadata": {
        "id": "wLem3_4ycUTm",
        "outputId": "85b3fbb5-473e-45b2-ceb2-97a4cf4dc57f",
        "colab": {
          "base_uri": "https://localhost:8080/"
        }
      },
      "outputs": [
        {
          "output_type": "stream",
          "name": "stdout",
          "text": [
            "[-0.0, -0.0, -0.0]\n",
            "[-0.0007441365882503311, -0.0007441365882503311, -0.0007441365882503311]\n",
            "[-0.0008584623637594434, -0.0008584623637594434, -0.0008584623637594434]\n"
          ]
        }
      ],
      "source": [
        "optimizer = AdamOptimizer()\n",
        "print(optimizer.send([0, 0, 0]))\n",
        "print(optimizer.send([1, 1, 1]))\n",
        "print(optimizer.send([1, 1, 1]))"
      ]
    },
    {
      "cell_type": "markdown",
      "metadata": {
        "id": "pC2_ti0pcUTn"
      },
      "source": [
        "# Training the FFN"
      ]
    },
    {
      "cell_type": "markdown",
      "metadata": {
        "id": "PENkXKMWcUTn"
      },
      "source": [
        "Our `Trainer` is a bit different now, as it calls the  optimizer at each step to determine the updates. Otherwise it's fairly similar to the one we used in the [softmax model session](softmax-model.ipynb#Training)."
      ]
    },
    {
      "cell_type": "code",
      "execution_count": 72,
      "metadata": {
        "id": "n1LqPbamcUTn"
      },
      "outputs": [],
      "source": [
        "batch_size = 50\n",
        "\n",
        "def trainer(Ws, X, Y, optimizer, batch_size=batch_size, keep_prob=1):    \n",
        "    nsamples = X.shape[0]\n",
        "    batch = 0\n",
        "    while True:\n",
        "        # get next batch\n",
        "        start = (batch * batch_size) % nsamples\n",
        "        stop = start + batch_size\n",
        "        batch_idx = range(start, stop)\n",
        "        X_, Y_ = X[batch_idx, :], Y[batch_idx, :]\n",
        "        \n",
        "        # compute gradients\n",
        "        gradients = back_propagation(Ws, X_, Y_, keep_prob=keep_prob) \n",
        "        \n",
        "        # compute updates\n",
        "        ΔWs = optimizer.send(gradients) \n",
        "        \n",
        "        # apply updates\n",
        "        for W, ΔW in zip(Ws, ΔWs): \n",
        "            W += ΔW\n",
        "\n",
        "        # update iteration and yield\n",
        "        batch += 1\n",
        "        yield batch"
      ]
    },
    {
      "cell_type": "markdown",
      "metadata": {
        "id": "fv4raOvncUTo"
      },
      "source": [
        "Now we initialize two layers and calculate the inital accuracy.\n",
        "\n",
        "The input layer has 728 features, \"neurons\" or pixels; the readout later has 10 (categories).\n",
        "Let's set the hidden layer to have 100 \"neurons\"."
      ]
    },
    {
      "cell_type": "code",
      "execution_count": 73,
      "metadata": {
        "id": "w5Ns5eJ2cUTo",
        "outputId": "7d42a346-84ca-4684-9097-61b88a37ff6f",
        "colab": {
          "base_uri": "https://localhost:8080/"
        }
      },
      "outputs": [
        {
          "output_type": "stream",
          "name": "stdout",
          "text": [
            "Accuracy: 0.1184\n"
          ]
        }
      ],
      "source": [
        "nhidden = 100\n",
        "W1 = random_matrix(nfeatures, nhidden)\n",
        "W2 = random_matrix(nhidden, ncats)\n",
        "Ws = [W1, W2]\n",
        "\n",
        "test_acc = [accuracy(predict(Ws, X_test), Y_test)]\n",
        "print(\"Accuracy: {:.4f}\".format(test_acc[-1]))"
      ]
    },
    {
      "cell_type": "markdown",
      "metadata": {
        "id": "4jk__O4QcUTo"
      },
      "source": [
        "The accuracy we get is something around 0.1, depending on the specific random values of `W1` and `W2`.\n",
        "\n",
        "Let's train the model for 10 epochs (each time we go over all the images is called an *epoch*)."
      ]
    },
    {
      "cell_type": "code",
      "execution_count": 74,
      "metadata": {
        "id": "L9qOUYJ-cUTp",
        "outputId": "a4c2a541-3332-49ad-9d2d-703cb56b1fde",
        "colab": {
          "base_uri": "https://localhost:8080/"
        }
      },
      "outputs": [
        {
          "output_type": "stream",
          "name": "stdout",
          "text": [
            "Accuracy (12000): 0.0980\n"
          ]
        }
      ],
      "source": [
        "train = trainer(Ws, X_train, Y_train, optimizer=MomentumOptimizer(), keep_prob=0.5)\n",
        "\n",
        "for batch in train:\n",
        "    if batch * batch_size % nsamples == 0: test_acc.append(accuracy(predict(Ws, X_test), Y_test))\n",
        "    if batch == 10 * nsamples // batch_size: break\n",
        "\n",
        "print(\"Accuracy ({:d}): {:.4f}\".format(batch, test_acc[-1]))"
      ]
    },
    {
      "cell_type": "markdown",
      "metadata": {
        "id": "CgmTegTHcUTp"
      },
      "source": [
        "Let's try with the Adam optimizer:"
      ]
    },
    {
      "cell_type": "code",
      "execution_count": 75,
      "metadata": {
        "id": "Tylh3jvVcUTp",
        "outputId": "069e7fba-844f-48af-eed8-e42cbb91a83d",
        "colab": {
          "base_uri": "https://localhost:8080/"
        }
      },
      "outputs": [
        {
          "output_type": "stream",
          "name": "stdout",
          "text": [
            "Accuracy: 0.1099\n"
          ]
        }
      ],
      "source": [
        "nhidden = 100\n",
        "W1 = random_matrix(nfeatures, nhidden)\n",
        "W2 = random_matrix(nhidden, ncats)\n",
        "Ws = [W1, W2]\n",
        "\n",
        "test_acc = [accuracy(predict(Ws, X_test), Y_test)]\n",
        "print(\"Accuracy: {:.4f}\".format(test_acc[-1]))"
      ]
    },
    {
      "cell_type": "code",
      "execution_count": 76,
      "metadata": {
        "id": "uQO8xPTFcUTq",
        "outputId": "98ede96c-ddfa-467e-8ea0-734c93ce0015",
        "colab": {
          "base_uri": "https://localhost:8080/"
        }
      },
      "outputs": [
        {
          "output_type": "stream",
          "name": "stdout",
          "text": [
            "Accuracy (12000): 0.9206\n"
          ]
        }
      ],
      "source": [
        "train = trainer(Ws, X_train, Y_train, optimizer=AdamOptimizer(), keep_prob=0.5)\n",
        "\n",
        "for batch in train:\n",
        "    if batch * batch_size % nsamples == 0: test_acc.append(accuracy(predict(Ws, X_test), Y_test))\n",
        "    if batch == 10 * nsamples // 50: break\n",
        "\n",
        "print(\"Accuracy ({:d}): {:.4f}\".format(batch, test_acc[-1]))"
      ]
    },
    {
      "cell_type": "markdown",
      "metadata": {
        "id": "CCq7KZ1AcUTq"
      },
      "source": [
        "So with Adam we got a rapid and significant increase in accuracy over the single-layer softmax model, which was ~89% after 10 epochs."
      ]
    },
    {
      "cell_type": "code",
      "execution_count": 77,
      "metadata": {
        "id": "YNJJt9PicUTq",
        "outputId": "d6fc3e23-6077-4ac9-b8b3-a8e8d2c6dc72",
        "colab": {
          "base_uri": "https://localhost:8080/",
          "height": 271
        }
      },
      "outputs": [
        {
          "output_type": "stream",
          "name": "stdout",
          "text": [
            "0\n"
          ]
        },
        {
          "output_type": "display_data",
          "data": {
            "text/plain": [
              "<Figure size 432x288 with 1 Axes>"
            ],
            "image/png": "[encoded data removed]"
          },
          "metadata": {}
        }
      ],
      "source": [
        "display_prediction(10)"
      ]
    },
    {
      "cell_type": "markdown",
      "metadata": {
        "id": "9wnzZFqlcUTr"
      },
      "source": [
        "Saving the model is just a matter of saving `Ws`:"
      ]
    },
    {
      "cell_type": "code",
      "execution_count": 79,
      "metadata": {
        "id": "A2qvkuwfcUTr",
        "outputId": "1007a770-9de4-428a-a8c4-65eb3dff00bc",
        "colab": {
          "base_uri": "https://localhost:8080/"
        }
      },
      "outputs": [
        {
          "name": "stdout",
          "output_type": "stream",
          "text": [
            "Are you sure?y\n"
          ]
        },
        {
          "output_type": "stream",
          "name": "stderr",
          "text": [
            "/usr/local/lib/python3.7/dist-packages/numpy/lib/npyio.py:719: VisibleDeprecationWarning: Creating an ndarray from ragged nested sequences (which is a list-or-tuple of lists-or-tuples-or ndarrays with different lengths or shapes) is deprecated. If you meant to do this, you must specify 'dtype=object' when creating the ndarray.\n",
            "  val = np.asanyarray(val)\n"
          ]
        }
      ],
      "source": [
        "if input(\"Are you sure?\") == 'y':\n",
        "    np.savez_compressed('./FFN_MNIST_2layer.npz', Ws=Ws)"
      ]
    },
    {
      "cell_type": "code",
      "execution_count": 81,
      "metadata": {
        "id": "KYVKN7VycUTr"
      },
      "outputs": [],
      "source": [
        "with np.load('./FFN_MNIST_2layer.npz', allow_pickle=True) as d:\n",
        "    Ws = d['Ws']"
      ]
    },
    {
      "cell_type": "code",
      "execution_count": 82,
      "metadata": {
        "id": "xE6bOvlecUTs",
        "outputId": "de3721c5-30e6-426e-d7fb-babd71884ba7",
        "colab": {
          "base_uri": "https://localhost:8080/",
          "height": 271
        }
      },
      "outputs": [
        {
          "output_type": "stream",
          "name": "stdout",
          "text": [
            "6\n"
          ]
        },
        {
          "output_type": "display_data",
          "data": {
            "text/plain": [
              "<Figure size 432x288 with 1 Axes>"
            ],
            "image/png": "[encoded data removed]"
          },
          "metadata": {}
        }
      ],
      "source": [
        "display_prediction(100)"
      ]
    },
    {
      "cell_type": "markdown",
      "metadata": {
        "id": "3WVY_BdFcUTs"
      },
      "source": [
        "# References\n",
        "\n",
        "- [Deep Learning by Ian Goodfellow and Yoshua Bengio and Aaron Courville](http://www.deeplearningbook.org), ch. 6, 7.12, and 8 - offers a comprehensive introduction to the subject.\n",
        "- [Deep Learning: Technical introduction by Thomas Epelbaum](https://github.com/tomepel/Technical_Book_DL), ch. 4 - offers a very technical perspective with full derivation of all the formulas.\n",
        "\n",
        "Both books are available online for free."
      ]
    },
    {
      "cell_type": "markdown",
      "metadata": {
        "id": "V3nAL1VEcUTs"
      },
      "source": [
        "# Colophon\n",
        "This notebook was written by [Yoav Ram](http://python.yoavram.com) and is part of the [_Scientific Computing with Python_](https://scicompy.yoavram.com/) course at IDC Herzliya.\n",
        "\n",
        "The notebook was written using [Python](http://python.org/) 3.6.5.\n",
        "Dependencies listed in [environment.yml](../environment.yml).\n",
        "\n",
        "This work is licensed under a CC BY-NC-SA 4.0 International License.\n",
        "\n",
        "![Python logo](https://www.python.org/static/community_logos/python-logo.png)"
      ]
    }
  ],
  "metadata": {
    "kernelspec": {
      "display_name": "Python [conda env:SciComPy]",
      "language": "python",
      "name": "conda-env-SciComPy-py"
    },
    "language_info": {
      "codemirror_mode": {
        "name": "ipython",
        "version": 3
      },
      "file_extension": ".py",
      "mimetype": "text/x-python",
      "name": "python",
      "nbconvert_exporter": "python",
      "pygments_lexer": "ipython3",
      "version": "3.7.6"
    },
    "colab": {
      "name": "FFN.ipynb",
      "provenance": []
    }
  },
  "nbformat": 4,
  "nbformat_minor": 0
}